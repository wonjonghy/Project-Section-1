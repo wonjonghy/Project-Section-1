{
  "cells": [
    {
      "cell_type": "markdown",
      "metadata": {
        "id": "view-in-github",
        "colab_type": "text"
      },
      "source": [
        "<a href=\"https://colab.research.google.com/github/wonjonghy/Project-Section-1/blob/main/Part1_2.ipynb\" target=\"_parent\"><img src=\"https://colab.research.google.com/assets/colab-badge.svg\" alt=\"Open In Colab\"/></a>"
      ]
    },
    {
      "cell_type": "markdown",
      "id": "3f69a245",
      "metadata": {
        "id": "3f69a245"
      },
      "source": [
        "# 확인하세요!\n",
        "\n",
        "### 제출 전에 모든 코드가 순차적으로 잘 작동하는지 확인하세요. \n",
        "- **런타임 다시 시작**한 다음(메뉴바에서 런타임 $\\rightarrow$ 런타임 다시 시작 선택) **모든 셀을 실행**해 보세요(메뉴바에서 런타임 $\\rightarrow$ 모두 실행 선택).\n",
        "\n",
        "### 지정 셀의 지정 영역에서만 코드를 작성했는지 확인하세요.\n",
        "- `YOUR CODE HERE`이 적혀 있는 셀에 대한 코드만 채점에 반영됩니다.\n",
        "- `YOUR CODE HERE` ~ `YOUR CODE ENDS HERE` 사이에 본인의 코드를 작성하세요.\n",
        "- 지정 셀 이외에 본인이 코드 실행 결과를 확인하기 위한 용도로 셀을 추가해도 됩니다.\n",
        "    - **제출 시 지정 셀에서는 정답 이외에 결과 확인을 위한 코드 등은 제거하고 제출해 주세요!**\n",
        "    - **기존 셀을 삭제하지 마세요! 채점에 불이익이 있을 수 있습니다.**\n",
        "\n",
        "### 제출 방법\n",
        "- 시간 내에 문제를 풀고, 본인의 github repo에 push 하세요.\n",
        "    - **디렉토리 구조가 변하면 안 됩니다.** `codestates/ds-sc2xx`와 디렉토리 구조가 동일해야 합니다. 답안 파일의 이름을 변경하지 않았는지, 기존에 없던 폴더가 추가되지 않았는지 등을 확인하세요.\n",
        "    - **코드스테이츠 가입 시 연동한 github 계정을 사용해야 합니다.**\n",
        "    - **branch를 변경하여 작업하지 마세요.**\n",
        "        - `master` branch에의 제출 사항에 대해서만 평가합니다.\n",
        "        - 본인의 github repo `master` branch에 제출이 잘 되어 있는지 확인하세요."
      ]
    },
    {
      "cell_type": "markdown",
      "id": "0270b2a3",
      "metadata": {
        "id": "0270b2a3"
      },
      "source": [
        "---"
      ]
    },
    {
      "cell_type": "markdown",
      "id": "6f4f7cc5",
      "metadata": {
        "deletable": false,
        "editable": false,
        "nbgrader": {
          "cell_type": "markdown",
          "checksum": "5b8da3e1b9baae8ac676b3a0499ac505",
          "grade": false,
          "grade_id": "cell-5b7fa4769535997c",
          "locked": true,
          "schema_version": 3,
          "solution": false,
          "task": false
        },
        "id": "6f4f7cc5"
      },
      "source": [
        "# SC22x\n",
        " \n",
        "### 코비 브라이언트의 슛 성공 여부 예측해보기\n",
        "\n",
        "이번 스프린트 챌린지에서는 故 코비 브라이언트 선수의 NBA 필드 골 시도들이 담긴 데이터셋을 다룹니다 (1996년 11월 3일부터 2016년 4월 13일까지의 정규 시즌과 플레이오프 시즌 기록).\n",
        "\n",
        "여러분은 각 슛의 성공 여부를 슈팅의 대한 정보, 게임에 대한 정보를 통해서 예측해야 합니다. 이것은 상당히 어려운 예측입니다. 해당 데이터셋은 [NBA API]((https://github.com/swar/nba_api) 파이썬 라이브러리를 통해 수집 됐습니다. "
      ]
    },
    {
      "cell_type": "code",
      "execution_count": 1,
      "id": "cdad95b2",
      "metadata": {
        "deletable": false,
        "editable": false,
        "nbgrader": {
          "cell_type": "code",
          "checksum": "09ba216ccff59c52f016d5454238a4e7",
          "grade": false,
          "grade_id": "cell-ee764f0e965ac62a",
          "locked": true,
          "schema_version": 3,
          "solution": false,
          "task": false
        },
        "id": "cdad95b2",
        "colab": {
          "base_uri": "https://localhost:8080/"
        },
        "outputId": "56ebec0e-4313-4ac2-e566-7f64b5ee2bb4"
      },
      "outputs": [
        {
          "output_type": "stream",
          "name": "stdout",
          "text": [
            "Looking in indexes: https://pypi.org/simple, https://us-python.pkg.dev/colab-wheels/public/simple/\n",
            "Requirement already satisfied: xgboost in /usr/local/lib/python3.7/dist-packages (0.90)\n",
            "Requirement already satisfied: scipy in /usr/local/lib/python3.7/dist-packages (from xgboost) (1.7.3)\n",
            "Requirement already satisfied: numpy in /usr/local/lib/python3.7/dist-packages (from xgboost) (1.21.6)\n",
            "Looking in indexes: https://pypi.org/simple, https://us-python.pkg.dev/colab-wheels/public/simple/\n",
            "Collecting category_encoders==2.*\n",
            "  Downloading category_encoders-2.5.1.post0-py2.py3-none-any.whl (72 kB)\n",
            "\u001b[K     |████████████████████████████████| 72 kB 373 kB/s \n",
            "\u001b[?25hRequirement already satisfied: scipy>=1.0.0 in /usr/local/lib/python3.7/dist-packages (from category_encoders==2.*) (1.7.3)\n",
            "Requirement already satisfied: numpy>=1.14.0 in /usr/local/lib/python3.7/dist-packages (from category_encoders==2.*) (1.21.6)\n",
            "Requirement already satisfied: patsy>=0.5.1 in /usr/local/lib/python3.7/dist-packages (from category_encoders==2.*) (0.5.3)\n",
            "Requirement already satisfied: pandas>=1.0.5 in /usr/local/lib/python3.7/dist-packages (from category_encoders==2.*) (1.3.5)\n",
            "Requirement already satisfied: scikit-learn>=0.20.0 in /usr/local/lib/python3.7/dist-packages (from category_encoders==2.*) (1.0.2)\n",
            "Requirement already satisfied: statsmodels>=0.9.0 in /usr/local/lib/python3.7/dist-packages (from category_encoders==2.*) (0.12.2)\n",
            "Requirement already satisfied: pytz>=2017.3 in /usr/local/lib/python3.7/dist-packages (from pandas>=1.0.5->category_encoders==2.*) (2022.6)\n",
            "Requirement already satisfied: python-dateutil>=2.7.3 in /usr/local/lib/python3.7/dist-packages (from pandas>=1.0.5->category_encoders==2.*) (2.8.2)\n",
            "Requirement already satisfied: six in /usr/local/lib/python3.7/dist-packages (from patsy>=0.5.1->category_encoders==2.*) (1.15.0)\n",
            "Requirement already satisfied: threadpoolctl>=2.0.0 in /usr/local/lib/python3.7/dist-packages (from scikit-learn>=0.20.0->category_encoders==2.*) (3.1.0)\n",
            "Requirement already satisfied: joblib>=0.11 in /usr/local/lib/python3.7/dist-packages (from scikit-learn>=0.20.0->category_encoders==2.*) (1.2.0)\n",
            "Installing collected packages: category-encoders\n",
            "Successfully installed category-encoders-2.5.1.post0\n",
            "Looking in indexes: https://pypi.org/simple, https://us-python.pkg.dev/colab-wheels/public/simple/\n",
            "Collecting pandas-profiling==2.*\n",
            "  Downloading pandas_profiling-2.13.0-py2.py3-none-any.whl (245 kB)\n",
            "\u001b[K     |████████████████████████████████| 245 kB 4.9 MB/s \n",
            "\u001b[?25hRequirement already satisfied: jinja2>=2.11.1 in /usr/local/lib/python3.7/dist-packages (from pandas-profiling==2.*) (2.11.3)\n",
            "Requirement already satisfied: seaborn>=0.10.1 in /usr/local/lib/python3.7/dist-packages (from pandas-profiling==2.*) (0.11.2)\n",
            "Requirement already satisfied: tqdm>=4.48.2 in /usr/local/lib/python3.7/dist-packages (from pandas-profiling==2.*) (4.64.1)\n",
            "Requirement already satisfied: numpy>=1.16.0 in /usr/local/lib/python3.7/dist-packages (from pandas-profiling==2.*) (1.21.6)\n",
            "Collecting htmlmin>=0.1.12\n",
            "  Downloading htmlmin-0.1.12.tar.gz (19 kB)\n",
            "Requirement already satisfied: scipy>=1.4.1 in /usr/local/lib/python3.7/dist-packages (from pandas-profiling==2.*) (1.7.3)\n",
            "Requirement already satisfied: missingno>=0.4.2 in /usr/local/lib/python3.7/dist-packages (from pandas-profiling==2.*) (0.5.1)\n",
            "Collecting tangled-up-in-unicode>=0.0.6\n",
            "  Downloading tangled_up_in_unicode-0.2.0-py3-none-any.whl (4.7 MB)\n",
            "\u001b[K     |████████████████████████████████| 4.7 MB 37.2 MB/s \n",
            "\u001b[?25hCollecting phik>=0.11.1\n",
            "  Downloading phik-0.12.2-cp37-cp37m-manylinux_2_17_x86_64.manylinux2014_x86_64.whl (690 kB)\n",
            "\u001b[K     |████████████████████████████████| 690 kB 46.3 MB/s \n",
            "\u001b[?25hCollecting confuse>=1.0.0\n",
            "  Downloading confuse-2.0.0-py3-none-any.whl (24 kB)\n",
            "Collecting requests>=2.24.0\n",
            "  Downloading requests-2.28.1-py3-none-any.whl (62 kB)\n",
            "\u001b[K     |████████████████████████████████| 62 kB 1.1 MB/s \n",
            "\u001b[?25hRequirement already satisfied: matplotlib>=3.2.0 in /usr/local/lib/python3.7/dist-packages (from pandas-profiling==2.*) (3.2.2)\n",
            "Requirement already satisfied: attrs>=19.3.0 in /usr/local/lib/python3.7/dist-packages (from pandas-profiling==2.*) (22.1.0)\n",
            "Collecting visions[type_image_path]==0.7.1\n",
            "  Downloading visions-0.7.1-py3-none-any.whl (102 kB)\n",
            "\u001b[K     |████████████████████████████████| 102 kB 40.7 MB/s \n",
            "\u001b[?25hRequirement already satisfied: joblib in /usr/local/lib/python3.7/dist-packages (from pandas-profiling==2.*) (1.2.0)\n",
            "Requirement already satisfied: pandas!=1.0.0,!=1.0.1,!=1.0.2,!=1.1.0,>=0.25.3 in /usr/local/lib/python3.7/dist-packages (from pandas-profiling==2.*) (1.3.5)\n",
            "Collecting multimethod==1.4\n",
            "  Downloading multimethod-1.4-py2.py3-none-any.whl (7.3 kB)\n",
            "Collecting bottleneck\n",
            "  Downloading Bottleneck-1.3.5-cp37-cp37m-manylinux_2_5_x86_64.manylinux1_x86_64.manylinux_2_17_x86_64.manylinux2014_x86_64.whl (355 kB)\n",
            "\u001b[K     |████████████████████████████████| 355 kB 57.0 MB/s \n",
            "\u001b[?25hRequirement already satisfied: networkx>=2.4 in /usr/local/lib/python3.7/dist-packages (from visions[type_image_path]==0.7.1->pandas-profiling==2.*) (2.6.3)\n",
            "Requirement already satisfied: Pillow in /usr/local/lib/python3.7/dist-packages (from visions[type_image_path]==0.7.1->pandas-profiling==2.*) (7.1.2)\n",
            "Collecting imagehash\n",
            "  Downloading ImageHash-4.3.1-py2.py3-none-any.whl (296 kB)\n",
            "\u001b[K     |████████████████████████████████| 296 kB 49.6 MB/s \n",
            "\u001b[?25hRequirement already satisfied: pyyaml in /usr/local/lib/python3.7/dist-packages (from confuse>=1.0.0->pandas-profiling==2.*) (6.0)\n",
            "Requirement already satisfied: MarkupSafe>=0.23 in /usr/local/lib/python3.7/dist-packages (from jinja2>=2.11.1->pandas-profiling==2.*) (2.0.1)\n",
            "Requirement already satisfied: pyparsing!=2.0.4,!=2.1.2,!=2.1.6,>=2.0.1 in /usr/local/lib/python3.7/dist-packages (from matplotlib>=3.2.0->pandas-profiling==2.*) (3.0.9)\n",
            "Requirement already satisfied: kiwisolver>=1.0.1 in /usr/local/lib/python3.7/dist-packages (from matplotlib>=3.2.0->pandas-profiling==2.*) (1.4.4)\n",
            "Requirement already satisfied: cycler>=0.10 in /usr/local/lib/python3.7/dist-packages (from matplotlib>=3.2.0->pandas-profiling==2.*) (0.11.0)\n",
            "Requirement already satisfied: python-dateutil>=2.1 in /usr/local/lib/python3.7/dist-packages (from matplotlib>=3.2.0->pandas-profiling==2.*) (2.8.2)\n",
            "Requirement already satisfied: typing-extensions in /usr/local/lib/python3.7/dist-packages (from kiwisolver>=1.0.1->matplotlib>=3.2.0->pandas-profiling==2.*) (4.1.1)\n",
            "Requirement already satisfied: pytz>=2017.3 in /usr/local/lib/python3.7/dist-packages (from pandas!=1.0.0,!=1.0.1,!=1.0.2,!=1.1.0,>=0.25.3->pandas-profiling==2.*) (2022.6)\n",
            "Requirement already satisfied: six>=1.5 in /usr/local/lib/python3.7/dist-packages (from python-dateutil>=2.1->matplotlib>=3.2.0->pandas-profiling==2.*) (1.15.0)\n",
            "Requirement already satisfied: idna<4,>=2.5 in /usr/local/lib/python3.7/dist-packages (from requests>=2.24.0->pandas-profiling==2.*) (2.10)\n",
            "Requirement already satisfied: urllib3<1.27,>=1.21.1 in /usr/local/lib/python3.7/dist-packages (from requests>=2.24.0->pandas-profiling==2.*) (1.24.3)\n",
            "Requirement already satisfied: certifi>=2017.4.17 in /usr/local/lib/python3.7/dist-packages (from requests>=2.24.0->pandas-profiling==2.*) (2022.9.24)\n",
            "Requirement already satisfied: charset-normalizer<3,>=2 in /usr/local/lib/python3.7/dist-packages (from requests>=2.24.0->pandas-profiling==2.*) (2.1.1)\n",
            "Requirement already satisfied: PyWavelets in /usr/local/lib/python3.7/dist-packages (from imagehash->visions[type_image_path]==0.7.1->pandas-profiling==2.*) (1.3.0)\n",
            "Building wheels for collected packages: htmlmin\n",
            "  Building wheel for htmlmin (setup.py) ... \u001b[?25l\u001b[?25hdone\n",
            "  Created wheel for htmlmin: filename=htmlmin-0.1.12-py3-none-any.whl size=27098 sha256=1969c6c420809433fcc1635509cfbc5aafe692774e88d73a22c6cecaa20a429f\n",
            "  Stored in directory: /root/.cache/pip/wheels/70/e1/52/5b14d250ba868768823940c3229e9950d201a26d0bd3ee8655\n",
            "Successfully built htmlmin\n",
            "Installing collected packages: tangled-up-in-unicode, multimethod, bottleneck, visions, imagehash, requests, phik, htmlmin, confuse, pandas-profiling\n",
            "  Attempting uninstall: requests\n",
            "    Found existing installation: requests 2.23.0\n",
            "    Uninstalling requests-2.23.0:\n",
            "      Successfully uninstalled requests-2.23.0\n",
            "  Attempting uninstall: pandas-profiling\n",
            "    Found existing installation: pandas-profiling 1.4.1\n",
            "    Uninstalling pandas-profiling-1.4.1:\n",
            "      Successfully uninstalled pandas-profiling-1.4.1\n",
            "Successfully installed bottleneck-1.3.5 confuse-2.0.0 htmlmin-0.1.12 imagehash-4.3.1 multimethod-1.4 pandas-profiling-2.13.0 phik-0.12.2 requests-2.28.1 tangled-up-in-unicode-0.2.0 visions-0.7.1\n"
          ]
        }
      ],
      "source": [
        "import sys\n",
        "import warnings\n",
        "\n",
        "!pip3 install xgboost\n",
        "\n",
        "if \"google.colab\" in sys.modules:\n",
        "    ## Colab에서 실행하는 경우 필요한 라이브러리를 미리 설치합니다.\n",
        "    !pip install category_encoders==2.*\n",
        "    !pip install pandas-profiling==2.*\n",
        "\n",
        "warnings.filterwarnings(\"ignore\")"
      ]
    },
    {
      "cell_type": "code",
      "execution_count": 174,
      "id": "3a53a31f",
      "metadata": {
        "deletable": false,
        "editable": false,
        "nbgrader": {
          "cell_type": "code",
          "checksum": "b58ba5b26c7fda6d0c1df2813dc5c31d",
          "grade": false,
          "grade_id": "cell-2602a05446403de0",
          "locked": true,
          "schema_version": 3,
          "solution": false,
          "task": false
        },
        "id": "3a53a31f"
      },
      "outputs": [],
      "source": [
        "# 데이터셋을 불러옵니다\n",
        "import pandas as pd\n",
        "\n",
        "url = \"https://ds-lecture-data.s3.ap-northeast-2.amazonaws.com/nba/nba_kobe_bryant.csv\"\n",
        "df = pd.read_csv(url)\n",
        "\n",
        "# 데이터셋이 잘 불러졌는지 확인합니다\n",
        "assert df.shape == (30697, 19)"
      ]
    },
    {
      "cell_type": "code",
      "execution_count": 175,
      "id": "f34ba7af",
      "metadata": {
        "deletable": false,
        "editable": false,
        "nbgrader": {
          "cell_type": "code",
          "checksum": "cd76d011425014356e2893c5aa457a2e",
          "grade": false,
          "grade_id": "cell-5588e0945ba113c3",
          "locked": true,
          "schema_version": 3,
          "solution": false,
          "task": false
        },
        "id": "f34ba7af",
        "colab": {
          "base_uri": "https://localhost:8080/",
          "height": 357
        },
        "outputId": "a5737616-453a-44ff-cdb7-79ba0aba8b9d"
      },
      "outputs": [
        {
          "output_type": "execute_result",
          "data": {
            "text/plain": [
              "    game_id  game_event_id  player_name  period  minutes_remaining  \\\n",
              "0  29600027            102  Kobe Bryant       1                  0   \n",
              "1  29600031            127  Kobe Bryant       2                 10   \n",
              "2  29600044            124  Kobe Bryant       2                  8   \n",
              "3  29600044            144  Kobe Bryant       2                  6   \n",
              "4  29600044            151  Kobe Bryant       2                  5   \n",
              "\n",
              "   seconds_remaining action_type       shot_type        shot_zone_basic  \\\n",
              "0                 42   Jump Shot  2PT Field Goal              Mid-Range   \n",
              "1                  8   Jump Shot  2PT Field Goal              Mid-Range   \n",
              "2                 37   Jump Shot  3PT Field Goal              Mid-Range   \n",
              "3                 34   Jump Shot  3PT Field Goal        Restricted Area   \n",
              "4                 27   Jump Shot  2PT Field Goal  In The Paint (Non-RA)   \n",
              "\n",
              "         shot_zone_area  shot_zone_range  shot_distance  loc_x  loc_y  \\\n",
              "0  Left Side Center(LC)        16-24 ft.             18   -140    116   \n",
              "1  Left Side Center(LC)        16-24 ft.             16   -131     97   \n",
              "2  Left Side Center(LC)        16-24 ft.             23   -142    181   \n",
              "3             Center(C)  Less Than 8 ft.              0      0      0   \n",
              "4             Center(C)         8-16 ft.             13    -10    138   \n",
              "\n",
              "   shot_made_flag   game_date  htm  vtm     season_type  \n",
              "0               0  1996-11-03  LAL  MIN  Regular Season  \n",
              "1               0  1996-11-05  NYK  LAL  Regular Season  \n",
              "2               1  1996-11-06  CHH  LAL  Regular Season  \n",
              "3               0  1996-11-06  CHH  LAL  Regular Season  \n",
              "4               1  1996-11-06  CHH  LAL  Regular Season  "
            ],
            "text/html": [
              "\n",
              "  <div id=\"df-4a6edd14-6ea9-47ec-9a6f-10b1ea18b2dd\">\n",
              "    <div class=\"colab-df-container\">\n",
              "      <div>\n",
              "<style scoped>\n",
              "    .dataframe tbody tr th:only-of-type {\n",
              "        vertical-align: middle;\n",
              "    }\n",
              "\n",
              "    .dataframe tbody tr th {\n",
              "        vertical-align: top;\n",
              "    }\n",
              "\n",
              "    .dataframe thead th {\n",
              "        text-align: right;\n",
              "    }\n",
              "</style>\n",
              "<table border=\"1\" class=\"dataframe\">\n",
              "  <thead>\n",
              "    <tr style=\"text-align: right;\">\n",
              "      <th></th>\n",
              "      <th>game_id</th>\n",
              "      <th>game_event_id</th>\n",
              "      <th>player_name</th>\n",
              "      <th>period</th>\n",
              "      <th>minutes_remaining</th>\n",
              "      <th>seconds_remaining</th>\n",
              "      <th>action_type</th>\n",
              "      <th>shot_type</th>\n",
              "      <th>shot_zone_basic</th>\n",
              "      <th>shot_zone_area</th>\n",
              "      <th>shot_zone_range</th>\n",
              "      <th>shot_distance</th>\n",
              "      <th>loc_x</th>\n",
              "      <th>loc_y</th>\n",
              "      <th>shot_made_flag</th>\n",
              "      <th>game_date</th>\n",
              "      <th>htm</th>\n",
              "      <th>vtm</th>\n",
              "      <th>season_type</th>\n",
              "    </tr>\n",
              "  </thead>\n",
              "  <tbody>\n",
              "    <tr>\n",
              "      <th>0</th>\n",
              "      <td>29600027</td>\n",
              "      <td>102</td>\n",
              "      <td>Kobe Bryant</td>\n",
              "      <td>1</td>\n",
              "      <td>0</td>\n",
              "      <td>42</td>\n",
              "      <td>Jump Shot</td>\n",
              "      <td>2PT Field Goal</td>\n",
              "      <td>Mid-Range</td>\n",
              "      <td>Left Side Center(LC)</td>\n",
              "      <td>16-24 ft.</td>\n",
              "      <td>18</td>\n",
              "      <td>-140</td>\n",
              "      <td>116</td>\n",
              "      <td>0</td>\n",
              "      <td>1996-11-03</td>\n",
              "      <td>LAL</td>\n",
              "      <td>MIN</td>\n",
              "      <td>Regular Season</td>\n",
              "    </tr>\n",
              "    <tr>\n",
              "      <th>1</th>\n",
              "      <td>29600031</td>\n",
              "      <td>127</td>\n",
              "      <td>Kobe Bryant</td>\n",
              "      <td>2</td>\n",
              "      <td>10</td>\n",
              "      <td>8</td>\n",
              "      <td>Jump Shot</td>\n",
              "      <td>2PT Field Goal</td>\n",
              "      <td>Mid-Range</td>\n",
              "      <td>Left Side Center(LC)</td>\n",
              "      <td>16-24 ft.</td>\n",
              "      <td>16</td>\n",
              "      <td>-131</td>\n",
              "      <td>97</td>\n",
              "      <td>0</td>\n",
              "      <td>1996-11-05</td>\n",
              "      <td>NYK</td>\n",
              "      <td>LAL</td>\n",
              "      <td>Regular Season</td>\n",
              "    </tr>\n",
              "    <tr>\n",
              "      <th>2</th>\n",
              "      <td>29600044</td>\n",
              "      <td>124</td>\n",
              "      <td>Kobe Bryant</td>\n",
              "      <td>2</td>\n",
              "      <td>8</td>\n",
              "      <td>37</td>\n",
              "      <td>Jump Shot</td>\n",
              "      <td>3PT Field Goal</td>\n",
              "      <td>Mid-Range</td>\n",
              "      <td>Left Side Center(LC)</td>\n",
              "      <td>16-24 ft.</td>\n",
              "      <td>23</td>\n",
              "      <td>-142</td>\n",
              "      <td>181</td>\n",
              "      <td>1</td>\n",
              "      <td>1996-11-06</td>\n",
              "      <td>CHH</td>\n",
              "      <td>LAL</td>\n",
              "      <td>Regular Season</td>\n",
              "    </tr>\n",
              "    <tr>\n",
              "      <th>3</th>\n",
              "      <td>29600044</td>\n",
              "      <td>144</td>\n",
              "      <td>Kobe Bryant</td>\n",
              "      <td>2</td>\n",
              "      <td>6</td>\n",
              "      <td>34</td>\n",
              "      <td>Jump Shot</td>\n",
              "      <td>3PT Field Goal</td>\n",
              "      <td>Restricted Area</td>\n",
              "      <td>Center(C)</td>\n",
              "      <td>Less Than 8 ft.</td>\n",
              "      <td>0</td>\n",
              "      <td>0</td>\n",
              "      <td>0</td>\n",
              "      <td>0</td>\n",
              "      <td>1996-11-06</td>\n",
              "      <td>CHH</td>\n",
              "      <td>LAL</td>\n",
              "      <td>Regular Season</td>\n",
              "    </tr>\n",
              "    <tr>\n",
              "      <th>4</th>\n",
              "      <td>29600044</td>\n",
              "      <td>151</td>\n",
              "      <td>Kobe Bryant</td>\n",
              "      <td>2</td>\n",
              "      <td>5</td>\n",
              "      <td>27</td>\n",
              "      <td>Jump Shot</td>\n",
              "      <td>2PT Field Goal</td>\n",
              "      <td>In The Paint (Non-RA)</td>\n",
              "      <td>Center(C)</td>\n",
              "      <td>8-16 ft.</td>\n",
              "      <td>13</td>\n",
              "      <td>-10</td>\n",
              "      <td>138</td>\n",
              "      <td>1</td>\n",
              "      <td>1996-11-06</td>\n",
              "      <td>CHH</td>\n",
              "      <td>LAL</td>\n",
              "      <td>Regular Season</td>\n",
              "    </tr>\n",
              "  </tbody>\n",
              "</table>\n",
              "</div>\n",
              "      <button class=\"colab-df-convert\" onclick=\"convertToInteractive('df-4a6edd14-6ea9-47ec-9a6f-10b1ea18b2dd')\"\n",
              "              title=\"Convert this dataframe to an interactive table.\"\n",
              "              style=\"display:none;\">\n",
              "        \n",
              "  <svg xmlns=\"http://www.w3.org/2000/svg\" height=\"24px\"viewBox=\"0 0 24 24\"\n",
              "       width=\"24px\">\n",
              "    <path d=\"M0 0h24v24H0V0z\" fill=\"none\"/>\n",
              "    <path d=\"M18.56 5.44l.94 2.06.94-2.06 2.06-.94-2.06-.94-.94-2.06-.94 2.06-2.06.94zm-11 1L8.5 8.5l.94-2.06 2.06-.94-2.06-.94L8.5 2.5l-.94 2.06-2.06.94zm10 10l.94 2.06.94-2.06 2.06-.94-2.06-.94-.94-2.06-.94 2.06-2.06.94z\"/><path d=\"M17.41 7.96l-1.37-1.37c-.4-.4-.92-.59-1.43-.59-.52 0-1.04.2-1.43.59L10.3 9.45l-7.72 7.72c-.78.78-.78 2.05 0 2.83L4 21.41c.39.39.9.59 1.41.59.51 0 1.02-.2 1.41-.59l7.78-7.78 2.81-2.81c.8-.78.8-2.07 0-2.86zM5.41 20L4 18.59l7.72-7.72 1.47 1.35L5.41 20z\"/>\n",
              "  </svg>\n",
              "      </button>\n",
              "      \n",
              "  <style>\n",
              "    .colab-df-container {\n",
              "      display:flex;\n",
              "      flex-wrap:wrap;\n",
              "      gap: 12px;\n",
              "    }\n",
              "\n",
              "    .colab-df-convert {\n",
              "      background-color: #E8F0FE;\n",
              "      border: none;\n",
              "      border-radius: 50%;\n",
              "      cursor: pointer;\n",
              "      display: none;\n",
              "      fill: #1967D2;\n",
              "      height: 32px;\n",
              "      padding: 0 0 0 0;\n",
              "      width: 32px;\n",
              "    }\n",
              "\n",
              "    .colab-df-convert:hover {\n",
              "      background-color: #E2EBFA;\n",
              "      box-shadow: 0px 1px 2px rgba(60, 64, 67, 0.3), 0px 1px 3px 1px rgba(60, 64, 67, 0.15);\n",
              "      fill: #174EA6;\n",
              "    }\n",
              "\n",
              "    [theme=dark] .colab-df-convert {\n",
              "      background-color: #3B4455;\n",
              "      fill: #D2E3FC;\n",
              "    }\n",
              "\n",
              "    [theme=dark] .colab-df-convert:hover {\n",
              "      background-color: #434B5C;\n",
              "      box-shadow: 0px 1px 3px 1px rgba(0, 0, 0, 0.15);\n",
              "      filter: drop-shadow(0px 1px 2px rgba(0, 0, 0, 0.3));\n",
              "      fill: #FFFFFF;\n",
              "    }\n",
              "  </style>\n",
              "\n",
              "      <script>\n",
              "        const buttonEl =\n",
              "          document.querySelector('#df-4a6edd14-6ea9-47ec-9a6f-10b1ea18b2dd button.colab-df-convert');\n",
              "        buttonEl.style.display =\n",
              "          google.colab.kernel.accessAllowed ? 'block' : 'none';\n",
              "\n",
              "        async function convertToInteractive(key) {\n",
              "          const element = document.querySelector('#df-4a6edd14-6ea9-47ec-9a6f-10b1ea18b2dd');\n",
              "          const dataTable =\n",
              "            await google.colab.kernel.invokeFunction('convertToInteractive',\n",
              "                                                     [key], {});\n",
              "          if (!dataTable) return;\n",
              "\n",
              "          const docLinkHtml = 'Like what you see? Visit the ' +\n",
              "            '<a target=\"_blank\" href=https://colab.research.google.com/notebooks/data_table.ipynb>data table notebook</a>'\n",
              "            + ' to learn more about interactive tables.';\n",
              "          element.innerHTML = '';\n",
              "          dataTable['output_type'] = 'display_data';\n",
              "          await google.colab.output.renderOutput(dataTable, element);\n",
              "          const docLink = document.createElement('div');\n",
              "          docLink.innerHTML = docLinkHtml;\n",
              "          element.appendChild(docLink);\n",
              "        }\n",
              "      </script>\n",
              "    </div>\n",
              "  </div>\n",
              "  "
            ]
          },
          "metadata": {},
          "execution_count": 175
        }
      ],
      "source": [
        "df.head()"
      ]
    },
    {
      "cell_type": "code",
      "execution_count": null,
      "id": "bd4ef052",
      "metadata": {
        "deletable": false,
        "editable": false,
        "nbgrader": {
          "cell_type": "code",
          "checksum": "2ec9ef1e3e41545d309a13f8ad9e96ac",
          "grade": false,
          "grade_id": "cell-2b50543307a8bc30",
          "locked": true,
          "schema_version": 3,
          "solution": false,
          "task": false
        },
        "id": "bd4ef052"
      },
      "outputs": [],
      "source": [
        "# 살펴보기\n",
        "df.isnull().sum()"
      ]
    },
    {
      "cell_type": "markdown",
      "id": "6b9c8083",
      "metadata": {
        "deletable": false,
        "editable": false,
        "nbgrader": {
          "cell_type": "markdown",
          "checksum": "96dab9d3b391906d6e6e33edcf985701",
          "grade": false,
          "grade_id": "cell-f75742bcbc000238",
          "locked": true,
          "schema_version": 3,
          "solution": false,
          "task": false
        },
        "id": "6b9c8083"
      },
      "source": [
        "# Part 1 - Data Preprocessing"
      ]
    },
    {
      "cell_type": "markdown",
      "id": "317a659c",
      "metadata": {
        "deletable": false,
        "editable": false,
        "nbgrader": {
          "cell_type": "markdown",
          "checksum": "5edd97d97d09e779c6c3d6f845191211",
          "grade": false,
          "grade_id": "cell-78b3370c9bae8d7c",
          "locked": true,
          "schema_version": 3,
          "solution": false,
          "task": false
        },
        "id": "317a659c"
      },
      "source": [
        "## 1.1 분류를 위한 베이스라인 정확도를 계산하는 `calculate_baseline_score` 함수를 작성하세요.\n",
        "- 예측해야 하는 target은 `shot_made_flag` 입니다. \n",
        "- 전체 데이터를 써서 baseline **accuracy score**를 계산하세요.\n",
        "- 최빈 클래스를 사용하는 baseline을 가정하세요."
      ]
    },
    {
      "cell_type": "code",
      "source": [
        "df.shot_made_flag.unique()"
      ],
      "metadata": {
        "colab": {
          "base_uri": "https://localhost:8080/"
        },
        "id": "kCWdV0W-sAmZ",
        "outputId": "3aada346-a492-480d-efcd-5bfb969c2c45"
      },
      "id": "kCWdV0W-sAmZ",
      "execution_count": 6,
      "outputs": [
        {
          "output_type": "execute_result",
          "data": {
            "text/plain": [
              "array([0, 1])"
            ]
          },
          "metadata": {},
          "execution_count": 6
        }
      ]
    },
    {
      "cell_type": "code",
      "source": [
        "df.shot_made_flag.sum()"
      ],
      "metadata": {
        "colab": {
          "base_uri": "https://localhost:8080/"
        },
        "id": "VNFIbfXmsJfp",
        "outputId": "999be1e3-f085-433b-d528-13aa1ecc8a27"
      },
      "id": "VNFIbfXmsJfp",
      "execution_count": 7,
      "outputs": [
        {
          "output_type": "execute_result",
          "data": {
            "text/plain": [
              "13731"
            ]
          },
          "metadata": {},
          "execution_count": 7
        }
      ]
    },
    {
      "cell_type": "code",
      "execution_count": 8,
      "id": "9fd4bab4",
      "metadata": {
        "deletable": false,
        "nbgrader": {
          "cell_type": "code",
          "checksum": "d86cec0b776864abff084231a709fa28",
          "grade": false,
          "grade_id": "1-1",
          "locked": false,
          "schema_version": 3,
          "solution": true,
          "task": false
        },
        "id": "9fd4bab4"
      },
      "outputs": [],
      "source": [
        "def calculate_baseline_score(df):\n",
        "    accuracy_score = 0\n",
        "\n",
        "    # YOUR CODE HERE\n",
        "    accuracy_score = df.shot_made_flag.sum()/len(df) * 100\n",
        "    \n",
        "    # YOUR CODE ENDS HERE\n",
        "\n",
        "    return accuracy_score"
      ]
    },
    {
      "cell_type": "code",
      "execution_count": 9,
      "id": "e3093d3d",
      "metadata": {
        "deletable": false,
        "editable": false,
        "nbgrader": {
          "cell_type": "code",
          "checksum": "715e83962f65cd40c3a019cd0a631c59",
          "grade": false,
          "grade_id": "cell-58d5cd85e0805e46",
          "locked": true,
          "schema_version": 3,
          "solution": false,
          "task": false
        },
        "id": "e3093d3d"
      },
      "outputs": [],
      "source": [
        "baseline_accuracy_score = calculate_baseline_score(df)"
      ]
    },
    {
      "cell_type": "code",
      "execution_count": 10,
      "id": "ac7b02b0",
      "metadata": {
        "deletable": false,
        "editable": false,
        "nbgrader": {
          "cell_type": "code",
          "checksum": "7f28afc1276702e79b17eb9839114403",
          "grade": true,
          "grade_id": "1-1_test",
          "locked": true,
          "points": 1,
          "schema_version": 3,
          "solution": false,
          "task": false
        },
        "id": "ac7b02b0",
        "colab": {
          "base_uri": "https://localhost:8080/"
        },
        "outputId": "67410f2f-3326-4078-f0b9-6ac4f59ca884"
      },
      "outputs": [
        {
          "output_type": "stream",
          "name": "stdout",
          "text": [
            "baseline accuracy score: 44.73075544841515\n"
          ]
        }
      ],
      "source": [
        "print(\"baseline accuracy score:\", baseline_accuracy_score)"
      ]
    },
    {
      "cell_type": "markdown",
      "id": "4b7abb2a",
      "metadata": {
        "deletable": false,
        "editable": false,
        "nbgrader": {
          "cell_type": "markdown",
          "checksum": "ebe6acbc6f4a27a5e1f21a3a57708b16",
          "grade": false,
          "grade_id": "cell-379b9354bac4ee0b",
          "locked": true,
          "schema_version": 3,
          "solution": false,
          "task": false
        },
        "id": "4b7abb2a"
      },
      "source": [
        "## 1.2 데이터셋을 아래의 기준을 사용해서 train/test 셋으로 나누는 `split_data` 함수를 작성하세요.\n",
        "\n",
        "- `test set`: **2014-15** ~ **2015-16** 시즌\n",
        "- NBA 시즌은 **10월**에 시작해서 **6월**에 종료합니다. "
      ]
    },
    {
      "cell_type": "code",
      "source": [
        "df.head()"
      ],
      "metadata": {
        "colab": {
          "base_uri": "https://localhost:8080/",
          "height": 357
        },
        "id": "BMX8dA5msYa4",
        "outputId": "21c293fa-e701-4729-c3d0-cda032b1b7ed"
      },
      "id": "BMX8dA5msYa4",
      "execution_count": 11,
      "outputs": [
        {
          "output_type": "execute_result",
          "data": {
            "text/plain": [
              "    game_id  game_event_id  player_name  period  minutes_remaining  \\\n",
              "0  29600027            102  Kobe Bryant       1                  0   \n",
              "1  29600031            127  Kobe Bryant       2                 10   \n",
              "2  29600044            124  Kobe Bryant       2                  8   \n",
              "3  29600044            144  Kobe Bryant       2                  6   \n",
              "4  29600044            151  Kobe Bryant       2                  5   \n",
              "\n",
              "   seconds_remaining action_type       shot_type        shot_zone_basic  \\\n",
              "0                 42   Jump Shot  2PT Field Goal              Mid-Range   \n",
              "1                  8   Jump Shot  2PT Field Goal              Mid-Range   \n",
              "2                 37   Jump Shot  3PT Field Goal              Mid-Range   \n",
              "3                 34   Jump Shot  3PT Field Goal        Restricted Area   \n",
              "4                 27   Jump Shot  2PT Field Goal  In The Paint (Non-RA)   \n",
              "\n",
              "         shot_zone_area  shot_zone_range  shot_distance  loc_x  loc_y  \\\n",
              "0  Left Side Center(LC)        16-24 ft.             18   -140    116   \n",
              "1  Left Side Center(LC)        16-24 ft.             16   -131     97   \n",
              "2  Left Side Center(LC)        16-24 ft.             23   -142    181   \n",
              "3             Center(C)  Less Than 8 ft.              0      0      0   \n",
              "4             Center(C)         8-16 ft.             13    -10    138   \n",
              "\n",
              "   shot_made_flag   game_date  htm  vtm     season_type  \n",
              "0               0  1996-11-03  LAL  MIN  Regular Season  \n",
              "1               0  1996-11-05  NYK  LAL  Regular Season  \n",
              "2               1  1996-11-06  CHH  LAL  Regular Season  \n",
              "3               0  1996-11-06  CHH  LAL  Regular Season  \n",
              "4               1  1996-11-06  CHH  LAL  Regular Season  "
            ],
            "text/html": [
              "\n",
              "  <div id=\"df-ce44513f-57be-4fd5-b2e2-f57c20ce3677\">\n",
              "    <div class=\"colab-df-container\">\n",
              "      <div>\n",
              "<style scoped>\n",
              "    .dataframe tbody tr th:only-of-type {\n",
              "        vertical-align: middle;\n",
              "    }\n",
              "\n",
              "    .dataframe tbody tr th {\n",
              "        vertical-align: top;\n",
              "    }\n",
              "\n",
              "    .dataframe thead th {\n",
              "        text-align: right;\n",
              "    }\n",
              "</style>\n",
              "<table border=\"1\" class=\"dataframe\">\n",
              "  <thead>\n",
              "    <tr style=\"text-align: right;\">\n",
              "      <th></th>\n",
              "      <th>game_id</th>\n",
              "      <th>game_event_id</th>\n",
              "      <th>player_name</th>\n",
              "      <th>period</th>\n",
              "      <th>minutes_remaining</th>\n",
              "      <th>seconds_remaining</th>\n",
              "      <th>action_type</th>\n",
              "      <th>shot_type</th>\n",
              "      <th>shot_zone_basic</th>\n",
              "      <th>shot_zone_area</th>\n",
              "      <th>shot_zone_range</th>\n",
              "      <th>shot_distance</th>\n",
              "      <th>loc_x</th>\n",
              "      <th>loc_y</th>\n",
              "      <th>shot_made_flag</th>\n",
              "      <th>game_date</th>\n",
              "      <th>htm</th>\n",
              "      <th>vtm</th>\n",
              "      <th>season_type</th>\n",
              "    </tr>\n",
              "  </thead>\n",
              "  <tbody>\n",
              "    <tr>\n",
              "      <th>0</th>\n",
              "      <td>29600027</td>\n",
              "      <td>102</td>\n",
              "      <td>Kobe Bryant</td>\n",
              "      <td>1</td>\n",
              "      <td>0</td>\n",
              "      <td>42</td>\n",
              "      <td>Jump Shot</td>\n",
              "      <td>2PT Field Goal</td>\n",
              "      <td>Mid-Range</td>\n",
              "      <td>Left Side Center(LC)</td>\n",
              "      <td>16-24 ft.</td>\n",
              "      <td>18</td>\n",
              "      <td>-140</td>\n",
              "      <td>116</td>\n",
              "      <td>0</td>\n",
              "      <td>1996-11-03</td>\n",
              "      <td>LAL</td>\n",
              "      <td>MIN</td>\n",
              "      <td>Regular Season</td>\n",
              "    </tr>\n",
              "    <tr>\n",
              "      <th>1</th>\n",
              "      <td>29600031</td>\n",
              "      <td>127</td>\n",
              "      <td>Kobe Bryant</td>\n",
              "      <td>2</td>\n",
              "      <td>10</td>\n",
              "      <td>8</td>\n",
              "      <td>Jump Shot</td>\n",
              "      <td>2PT Field Goal</td>\n",
              "      <td>Mid-Range</td>\n",
              "      <td>Left Side Center(LC)</td>\n",
              "      <td>16-24 ft.</td>\n",
              "      <td>16</td>\n",
              "      <td>-131</td>\n",
              "      <td>97</td>\n",
              "      <td>0</td>\n",
              "      <td>1996-11-05</td>\n",
              "      <td>NYK</td>\n",
              "      <td>LAL</td>\n",
              "      <td>Regular Season</td>\n",
              "    </tr>\n",
              "    <tr>\n",
              "      <th>2</th>\n",
              "      <td>29600044</td>\n",
              "      <td>124</td>\n",
              "      <td>Kobe Bryant</td>\n",
              "      <td>2</td>\n",
              "      <td>8</td>\n",
              "      <td>37</td>\n",
              "      <td>Jump Shot</td>\n",
              "      <td>3PT Field Goal</td>\n",
              "      <td>Mid-Range</td>\n",
              "      <td>Left Side Center(LC)</td>\n",
              "      <td>16-24 ft.</td>\n",
              "      <td>23</td>\n",
              "      <td>-142</td>\n",
              "      <td>181</td>\n",
              "      <td>1</td>\n",
              "      <td>1996-11-06</td>\n",
              "      <td>CHH</td>\n",
              "      <td>LAL</td>\n",
              "      <td>Regular Season</td>\n",
              "    </tr>\n",
              "    <tr>\n",
              "      <th>3</th>\n",
              "      <td>29600044</td>\n",
              "      <td>144</td>\n",
              "      <td>Kobe Bryant</td>\n",
              "      <td>2</td>\n",
              "      <td>6</td>\n",
              "      <td>34</td>\n",
              "      <td>Jump Shot</td>\n",
              "      <td>3PT Field Goal</td>\n",
              "      <td>Restricted Area</td>\n",
              "      <td>Center(C)</td>\n",
              "      <td>Less Than 8 ft.</td>\n",
              "      <td>0</td>\n",
              "      <td>0</td>\n",
              "      <td>0</td>\n",
              "      <td>0</td>\n",
              "      <td>1996-11-06</td>\n",
              "      <td>CHH</td>\n",
              "      <td>LAL</td>\n",
              "      <td>Regular Season</td>\n",
              "    </tr>\n",
              "    <tr>\n",
              "      <th>4</th>\n",
              "      <td>29600044</td>\n",
              "      <td>151</td>\n",
              "      <td>Kobe Bryant</td>\n",
              "      <td>2</td>\n",
              "      <td>5</td>\n",
              "      <td>27</td>\n",
              "      <td>Jump Shot</td>\n",
              "      <td>2PT Field Goal</td>\n",
              "      <td>In The Paint (Non-RA)</td>\n",
              "      <td>Center(C)</td>\n",
              "      <td>8-16 ft.</td>\n",
              "      <td>13</td>\n",
              "      <td>-10</td>\n",
              "      <td>138</td>\n",
              "      <td>1</td>\n",
              "      <td>1996-11-06</td>\n",
              "      <td>CHH</td>\n",
              "      <td>LAL</td>\n",
              "      <td>Regular Season</td>\n",
              "    </tr>\n",
              "  </tbody>\n",
              "</table>\n",
              "</div>\n",
              "      <button class=\"colab-df-convert\" onclick=\"convertToInteractive('df-ce44513f-57be-4fd5-b2e2-f57c20ce3677')\"\n",
              "              title=\"Convert this dataframe to an interactive table.\"\n",
              "              style=\"display:none;\">\n",
              "        \n",
              "  <svg xmlns=\"http://www.w3.org/2000/svg\" height=\"24px\"viewBox=\"0 0 24 24\"\n",
              "       width=\"24px\">\n",
              "    <path d=\"M0 0h24v24H0V0z\" fill=\"none\"/>\n",
              "    <path d=\"M18.56 5.44l.94 2.06.94-2.06 2.06-.94-2.06-.94-.94-2.06-.94 2.06-2.06.94zm-11 1L8.5 8.5l.94-2.06 2.06-.94-2.06-.94L8.5 2.5l-.94 2.06-2.06.94zm10 10l.94 2.06.94-2.06 2.06-.94-2.06-.94-.94-2.06-.94 2.06-2.06.94z\"/><path d=\"M17.41 7.96l-1.37-1.37c-.4-.4-.92-.59-1.43-.59-.52 0-1.04.2-1.43.59L10.3 9.45l-7.72 7.72c-.78.78-.78 2.05 0 2.83L4 21.41c.39.39.9.59 1.41.59.51 0 1.02-.2 1.41-.59l7.78-7.78 2.81-2.81c.8-.78.8-2.07 0-2.86zM5.41 20L4 18.59l7.72-7.72 1.47 1.35L5.41 20z\"/>\n",
              "  </svg>\n",
              "      </button>\n",
              "      \n",
              "  <style>\n",
              "    .colab-df-container {\n",
              "      display:flex;\n",
              "      flex-wrap:wrap;\n",
              "      gap: 12px;\n",
              "    }\n",
              "\n",
              "    .colab-df-convert {\n",
              "      background-color: #E8F0FE;\n",
              "      border: none;\n",
              "      border-radius: 50%;\n",
              "      cursor: pointer;\n",
              "      display: none;\n",
              "      fill: #1967D2;\n",
              "      height: 32px;\n",
              "      padding: 0 0 0 0;\n",
              "      width: 32px;\n",
              "    }\n",
              "\n",
              "    .colab-df-convert:hover {\n",
              "      background-color: #E2EBFA;\n",
              "      box-shadow: 0px 1px 2px rgba(60, 64, 67, 0.3), 0px 1px 3px 1px rgba(60, 64, 67, 0.15);\n",
              "      fill: #174EA6;\n",
              "    }\n",
              "\n",
              "    [theme=dark] .colab-df-convert {\n",
              "      background-color: #3B4455;\n",
              "      fill: #D2E3FC;\n",
              "    }\n",
              "\n",
              "    [theme=dark] .colab-df-convert:hover {\n",
              "      background-color: #434B5C;\n",
              "      box-shadow: 0px 1px 3px 1px rgba(0, 0, 0, 0.15);\n",
              "      filter: drop-shadow(0px 1px 2px rgba(0, 0, 0, 0.3));\n",
              "      fill: #FFFFFF;\n",
              "    }\n",
              "  </style>\n",
              "\n",
              "      <script>\n",
              "        const buttonEl =\n",
              "          document.querySelector('#df-ce44513f-57be-4fd5-b2e2-f57c20ce3677 button.colab-df-convert');\n",
              "        buttonEl.style.display =\n",
              "          google.colab.kernel.accessAllowed ? 'block' : 'none';\n",
              "\n",
              "        async function convertToInteractive(key) {\n",
              "          const element = document.querySelector('#df-ce44513f-57be-4fd5-b2e2-f57c20ce3677');\n",
              "          const dataTable =\n",
              "            await google.colab.kernel.invokeFunction('convertToInteractive',\n",
              "                                                     [key], {});\n",
              "          if (!dataTable) return;\n",
              "\n",
              "          const docLinkHtml = 'Like what you see? Visit the ' +\n",
              "            '<a target=\"_blank\" href=https://colab.research.google.com/notebooks/data_table.ipynb>data table notebook</a>'\n",
              "            + ' to learn more about interactive tables.';\n",
              "          element.innerHTML = '';\n",
              "          dataTable['output_type'] = 'display_data';\n",
              "          await google.colab.output.renderOutput(dataTable, element);\n",
              "          const docLink = document.createElement('div');\n",
              "          docLink.innerHTML = docLinkHtml;\n",
              "          element.appendChild(docLink);\n",
              "        }\n",
              "      </script>\n",
              "    </div>\n",
              "  </div>\n",
              "  "
            ]
          },
          "metadata": {},
          "execution_count": 11
        }
      ]
    },
    {
      "cell_type": "code",
      "source": [
        "pd.set_option('display.max_rows', None)"
      ],
      "metadata": {
        "id": "5oTqxYLIu99V"
      },
      "id": "5oTqxYLIu99V",
      "execution_count": 63,
      "outputs": []
    },
    {
      "cell_type": "code",
      "execution_count": 38,
      "id": "0db6ee42",
      "metadata": {
        "deletable": false,
        "nbgrader": {
          "cell_type": "code",
          "checksum": "0492b692729613e5bfd0caa42832f343",
          "grade": false,
          "grade_id": "1-2",
          "locked": false,
          "schema_version": 3,
          "solution": true,
          "task": false
        },
        "id": "0db6ee42"
      },
      "outputs": [],
      "source": [
        "def split_data(df):\n",
        "    train = None\n",
        "    test = None\n",
        "\n",
        "    # YOUR CODE HERE\n",
        "    import datetime as dt\n",
        "    df.game_date = pd.to_datetime(df.game_date)\n",
        "    test = df[df.game_date.dt.year >= 2014]\n",
        "    train = df[df.game_date.dt.year < 2014]\n",
        "    \n",
        "    # YOUR CODE ENDS HERE\n",
        "\n",
        "    return train, test"
      ]
    },
    {
      "cell_type": "code",
      "execution_count": 39,
      "id": "e90106c9",
      "metadata": {
        "deletable": false,
        "editable": false,
        "nbgrader": {
          "cell_type": "code",
          "checksum": "fd97ea82ae2456a4aee58ddcd54b2779",
          "grade": false,
          "grade_id": "cell-26aeeade23bbb87e",
          "locked": true,
          "schema_version": 3,
          "solution": false,
          "task": false
        },
        "id": "e90106c9"
      },
      "outputs": [],
      "source": [
        "train, test = split_data(df.copy())"
      ]
    },
    {
      "cell_type": "code",
      "source": [
        "test.head()"
      ],
      "metadata": {
        "colab": {
          "base_uri": "https://localhost:8080/",
          "height": 357
        },
        "id": "i35IvUcH7bfm",
        "outputId": "0642f582-6748-4882-ffb8-0cb4263928ca"
      },
      "id": "i35IvUcH7bfm",
      "execution_count": 76,
      "outputs": [
        {
          "output_type": "execute_result",
          "data": {
            "text/plain": [
              "        game_id  game_event_id  player_name  period  minutes_remaining  \\\n",
              "28871  21400003             76  Kobe Bryant       1                  6   \n",
              "28872  21400003             94  Kobe Bryant       1                  4   \n",
              "28873  21400003            413  Kobe Bryant       3                  5   \n",
              "28874  21400003            520  Kobe Bryant       4                  9   \n",
              "28875  21400003            553  Kobe Bryant       4                  7   \n",
              "\n",
              "       seconds_remaining           action_type       shot_type  \\\n",
              "28871                 13             Jump Shot  2PT Field Goal   \n",
              "28872                 45             Jump Shot  2PT Field Goal   \n",
              "28873                 52  Turnaround Jump Shot  2PT Field Goal   \n",
              "28874                 36             Jump Shot  3PT Field Goal   \n",
              "28875                 16             Jump Shot  2PT Field Goal   \n",
              "\n",
              "             shot_zone_basic        shot_zone_area  shot_zone_range  \\\n",
              "28871              Mid-Range             Center(C)        16-24 ft.   \n",
              "28872  In The Paint (Non-RA)             Center(C)  Less Than 8 ft.   \n",
              "28873              Mid-Range         Right Side(R)        16-24 ft.   \n",
              "28874      Above the Break 3  Left Side Center(LC)          24+ ft.   \n",
              "28875              Mid-Range          Left Side(L)        16-24 ft.   \n",
              "\n",
              "       shot_distance  loc_x  loc_y  shot_made_flag  game_date  htm  vtm  \\\n",
              "28871             20    -54    201               0 2014-10-28  LAL  HOU   \n",
              "28872              6    -16     63               1 2014-10-28  LAL  HOU   \n",
              "28873             18    166     78               0 2014-10-28  LAL  HOU   \n",
              "28874             27   -138    241               0 2014-10-28  LAL  HOU   \n",
              "28875             19   -179     88               0 2014-10-28  LAL  HOU   \n",
              "\n",
              "          season_type  \n",
              "28871  Regular Season  \n",
              "28872  Regular Season  \n",
              "28873  Regular Season  \n",
              "28874  Regular Season  \n",
              "28875  Regular Season  "
            ],
            "text/html": [
              "\n",
              "  <div id=\"df-10f7e7b8-862c-4133-9164-b59a2f7f188f\">\n",
              "    <div class=\"colab-df-container\">\n",
              "      <div>\n",
              "<style scoped>\n",
              "    .dataframe tbody tr th:only-of-type {\n",
              "        vertical-align: middle;\n",
              "    }\n",
              "\n",
              "    .dataframe tbody tr th {\n",
              "        vertical-align: top;\n",
              "    }\n",
              "\n",
              "    .dataframe thead th {\n",
              "        text-align: right;\n",
              "    }\n",
              "</style>\n",
              "<table border=\"1\" class=\"dataframe\">\n",
              "  <thead>\n",
              "    <tr style=\"text-align: right;\">\n",
              "      <th></th>\n",
              "      <th>game_id</th>\n",
              "      <th>game_event_id</th>\n",
              "      <th>player_name</th>\n",
              "      <th>period</th>\n",
              "      <th>minutes_remaining</th>\n",
              "      <th>seconds_remaining</th>\n",
              "      <th>action_type</th>\n",
              "      <th>shot_type</th>\n",
              "      <th>shot_zone_basic</th>\n",
              "      <th>shot_zone_area</th>\n",
              "      <th>shot_zone_range</th>\n",
              "      <th>shot_distance</th>\n",
              "      <th>loc_x</th>\n",
              "      <th>loc_y</th>\n",
              "      <th>shot_made_flag</th>\n",
              "      <th>game_date</th>\n",
              "      <th>htm</th>\n",
              "      <th>vtm</th>\n",
              "      <th>season_type</th>\n",
              "    </tr>\n",
              "  </thead>\n",
              "  <tbody>\n",
              "    <tr>\n",
              "      <th>28871</th>\n",
              "      <td>21400003</td>\n",
              "      <td>76</td>\n",
              "      <td>Kobe Bryant</td>\n",
              "      <td>1</td>\n",
              "      <td>6</td>\n",
              "      <td>13</td>\n",
              "      <td>Jump Shot</td>\n",
              "      <td>2PT Field Goal</td>\n",
              "      <td>Mid-Range</td>\n",
              "      <td>Center(C)</td>\n",
              "      <td>16-24 ft.</td>\n",
              "      <td>20</td>\n",
              "      <td>-54</td>\n",
              "      <td>201</td>\n",
              "      <td>0</td>\n",
              "      <td>2014-10-28</td>\n",
              "      <td>LAL</td>\n",
              "      <td>HOU</td>\n",
              "      <td>Regular Season</td>\n",
              "    </tr>\n",
              "    <tr>\n",
              "      <th>28872</th>\n",
              "      <td>21400003</td>\n",
              "      <td>94</td>\n",
              "      <td>Kobe Bryant</td>\n",
              "      <td>1</td>\n",
              "      <td>4</td>\n",
              "      <td>45</td>\n",
              "      <td>Jump Shot</td>\n",
              "      <td>2PT Field Goal</td>\n",
              "      <td>In The Paint (Non-RA)</td>\n",
              "      <td>Center(C)</td>\n",
              "      <td>Less Than 8 ft.</td>\n",
              "      <td>6</td>\n",
              "      <td>-16</td>\n",
              "      <td>63</td>\n",
              "      <td>1</td>\n",
              "      <td>2014-10-28</td>\n",
              "      <td>LAL</td>\n",
              "      <td>HOU</td>\n",
              "      <td>Regular Season</td>\n",
              "    </tr>\n",
              "    <tr>\n",
              "      <th>28873</th>\n",
              "      <td>21400003</td>\n",
              "      <td>413</td>\n",
              "      <td>Kobe Bryant</td>\n",
              "      <td>3</td>\n",
              "      <td>5</td>\n",
              "      <td>52</td>\n",
              "      <td>Turnaround Jump Shot</td>\n",
              "      <td>2PT Field Goal</td>\n",
              "      <td>Mid-Range</td>\n",
              "      <td>Right Side(R)</td>\n",
              "      <td>16-24 ft.</td>\n",
              "      <td>18</td>\n",
              "      <td>166</td>\n",
              "      <td>78</td>\n",
              "      <td>0</td>\n",
              "      <td>2014-10-28</td>\n",
              "      <td>LAL</td>\n",
              "      <td>HOU</td>\n",
              "      <td>Regular Season</td>\n",
              "    </tr>\n",
              "    <tr>\n",
              "      <th>28874</th>\n",
              "      <td>21400003</td>\n",
              "      <td>520</td>\n",
              "      <td>Kobe Bryant</td>\n",
              "      <td>4</td>\n",
              "      <td>9</td>\n",
              "      <td>36</td>\n",
              "      <td>Jump Shot</td>\n",
              "      <td>3PT Field Goal</td>\n",
              "      <td>Above the Break 3</td>\n",
              "      <td>Left Side Center(LC)</td>\n",
              "      <td>24+ ft.</td>\n",
              "      <td>27</td>\n",
              "      <td>-138</td>\n",
              "      <td>241</td>\n",
              "      <td>0</td>\n",
              "      <td>2014-10-28</td>\n",
              "      <td>LAL</td>\n",
              "      <td>HOU</td>\n",
              "      <td>Regular Season</td>\n",
              "    </tr>\n",
              "    <tr>\n",
              "      <th>28875</th>\n",
              "      <td>21400003</td>\n",
              "      <td>553</td>\n",
              "      <td>Kobe Bryant</td>\n",
              "      <td>4</td>\n",
              "      <td>7</td>\n",
              "      <td>16</td>\n",
              "      <td>Jump Shot</td>\n",
              "      <td>2PT Field Goal</td>\n",
              "      <td>Mid-Range</td>\n",
              "      <td>Left Side(L)</td>\n",
              "      <td>16-24 ft.</td>\n",
              "      <td>19</td>\n",
              "      <td>-179</td>\n",
              "      <td>88</td>\n",
              "      <td>0</td>\n",
              "      <td>2014-10-28</td>\n",
              "      <td>LAL</td>\n",
              "      <td>HOU</td>\n",
              "      <td>Regular Season</td>\n",
              "    </tr>\n",
              "  </tbody>\n",
              "</table>\n",
              "</div>\n",
              "      <button class=\"colab-df-convert\" onclick=\"convertToInteractive('df-10f7e7b8-862c-4133-9164-b59a2f7f188f')\"\n",
              "              title=\"Convert this dataframe to an interactive table.\"\n",
              "              style=\"display:none;\">\n",
              "        \n",
              "  <svg xmlns=\"http://www.w3.org/2000/svg\" height=\"24px\"viewBox=\"0 0 24 24\"\n",
              "       width=\"24px\">\n",
              "    <path d=\"M0 0h24v24H0V0z\" fill=\"none\"/>\n",
              "    <path d=\"M18.56 5.44l.94 2.06.94-2.06 2.06-.94-2.06-.94-.94-2.06-.94 2.06-2.06.94zm-11 1L8.5 8.5l.94-2.06 2.06-.94-2.06-.94L8.5 2.5l-.94 2.06-2.06.94zm10 10l.94 2.06.94-2.06 2.06-.94-2.06-.94-.94-2.06-.94 2.06-2.06.94z\"/><path d=\"M17.41 7.96l-1.37-1.37c-.4-.4-.92-.59-1.43-.59-.52 0-1.04.2-1.43.59L10.3 9.45l-7.72 7.72c-.78.78-.78 2.05 0 2.83L4 21.41c.39.39.9.59 1.41.59.51 0 1.02-.2 1.41-.59l7.78-7.78 2.81-2.81c.8-.78.8-2.07 0-2.86zM5.41 20L4 18.59l7.72-7.72 1.47 1.35L5.41 20z\"/>\n",
              "  </svg>\n",
              "      </button>\n",
              "      \n",
              "  <style>\n",
              "    .colab-df-container {\n",
              "      display:flex;\n",
              "      flex-wrap:wrap;\n",
              "      gap: 12px;\n",
              "    }\n",
              "\n",
              "    .colab-df-convert {\n",
              "      background-color: #E8F0FE;\n",
              "      border: none;\n",
              "      border-radius: 50%;\n",
              "      cursor: pointer;\n",
              "      display: none;\n",
              "      fill: #1967D2;\n",
              "      height: 32px;\n",
              "      padding: 0 0 0 0;\n",
              "      width: 32px;\n",
              "    }\n",
              "\n",
              "    .colab-df-convert:hover {\n",
              "      background-color: #E2EBFA;\n",
              "      box-shadow: 0px 1px 2px rgba(60, 64, 67, 0.3), 0px 1px 3px 1px rgba(60, 64, 67, 0.15);\n",
              "      fill: #174EA6;\n",
              "    }\n",
              "\n",
              "    [theme=dark] .colab-df-convert {\n",
              "      background-color: #3B4455;\n",
              "      fill: #D2E3FC;\n",
              "    }\n",
              "\n",
              "    [theme=dark] .colab-df-convert:hover {\n",
              "      background-color: #434B5C;\n",
              "      box-shadow: 0px 1px 3px 1px rgba(0, 0, 0, 0.15);\n",
              "      filter: drop-shadow(0px 1px 2px rgba(0, 0, 0, 0.3));\n",
              "      fill: #FFFFFF;\n",
              "    }\n",
              "  </style>\n",
              "\n",
              "      <script>\n",
              "        const buttonEl =\n",
              "          document.querySelector('#df-10f7e7b8-862c-4133-9164-b59a2f7f188f button.colab-df-convert');\n",
              "        buttonEl.style.display =\n",
              "          google.colab.kernel.accessAllowed ? 'block' : 'none';\n",
              "\n",
              "        async function convertToInteractive(key) {\n",
              "          const element = document.querySelector('#df-10f7e7b8-862c-4133-9164-b59a2f7f188f');\n",
              "          const dataTable =\n",
              "            await google.colab.kernel.invokeFunction('convertToInteractive',\n",
              "                                                     [key], {});\n",
              "          if (!dataTable) return;\n",
              "\n",
              "          const docLinkHtml = 'Like what you see? Visit the ' +\n",
              "            '<a target=\"_blank\" href=https://colab.research.google.com/notebooks/data_table.ipynb>data table notebook</a>'\n",
              "            + ' to learn more about interactive tables.';\n",
              "          element.innerHTML = '';\n",
              "          dataTable['output_type'] = 'display_data';\n",
              "          await google.colab.output.renderOutput(dataTable, element);\n",
              "          const docLink = document.createElement('div');\n",
              "          docLink.innerHTML = docLinkHtml;\n",
              "          element.appendChild(docLink);\n",
              "        }\n",
              "      </script>\n",
              "    </div>\n",
              "  </div>\n",
              "  "
            ]
          },
          "metadata": {},
          "execution_count": 76
        }
      ]
    },
    {
      "cell_type": "code",
      "execution_count": 44,
      "id": "7056dce3",
      "metadata": {
        "deletable": false,
        "editable": false,
        "nbgrader": {
          "cell_type": "code",
          "checksum": "131d230d7b9e6a805356c49ce9f9be3f",
          "grade": true,
          "grade_id": "1-2_test",
          "locked": true,
          "points": 1,
          "schema_version": 3,
          "solution": false,
          "task": false
        },
        "id": "7056dce3",
        "colab": {
          "base_uri": "https://localhost:8080/",
          "height": 357
        },
        "outputId": "5e403049-9757-4cff-9f2d-c1b4d7e120c7"
      },
      "outputs": [
        {
          "output_type": "execute_result",
          "data": {
            "text/plain": [
              "    game_id  game_event_id  player_name  period  minutes_remaining  \\\n",
              "0  29600027            102  Kobe Bryant       1                  0   \n",
              "1  29600031            127  Kobe Bryant       2                 10   \n",
              "2  29600044            124  Kobe Bryant       2                  8   \n",
              "3  29600044            144  Kobe Bryant       2                  6   \n",
              "4  29600044            151  Kobe Bryant       2                  5   \n",
              "\n",
              "   seconds_remaining action_type       shot_type        shot_zone_basic  \\\n",
              "0                 42   Jump Shot  2PT Field Goal              Mid-Range   \n",
              "1                  8   Jump Shot  2PT Field Goal              Mid-Range   \n",
              "2                 37   Jump Shot  3PT Field Goal              Mid-Range   \n",
              "3                 34   Jump Shot  3PT Field Goal        Restricted Area   \n",
              "4                 27   Jump Shot  2PT Field Goal  In The Paint (Non-RA)   \n",
              "\n",
              "         shot_zone_area  shot_zone_range  shot_distance  loc_x  loc_y  \\\n",
              "0  Left Side Center(LC)        16-24 ft.             18   -140    116   \n",
              "1  Left Side Center(LC)        16-24 ft.             16   -131     97   \n",
              "2  Left Side Center(LC)        16-24 ft.             23   -142    181   \n",
              "3             Center(C)  Less Than 8 ft.              0      0      0   \n",
              "4             Center(C)         8-16 ft.             13    -10    138   \n",
              "\n",
              "   shot_made_flag  game_date  htm  vtm     season_type  \n",
              "0               0 1996-11-03  LAL  MIN  Regular Season  \n",
              "1               0 1996-11-05  NYK  LAL  Regular Season  \n",
              "2               1 1996-11-06  CHH  LAL  Regular Season  \n",
              "3               0 1996-11-06  CHH  LAL  Regular Season  \n",
              "4               1 1996-11-06  CHH  LAL  Regular Season  "
            ],
            "text/html": [
              "\n",
              "  <div id=\"df-416c25a0-326e-4140-b30b-8f23a2f9cf4b\">\n",
              "    <div class=\"colab-df-container\">\n",
              "      <div>\n",
              "<style scoped>\n",
              "    .dataframe tbody tr th:only-of-type {\n",
              "        vertical-align: middle;\n",
              "    }\n",
              "\n",
              "    .dataframe tbody tr th {\n",
              "        vertical-align: top;\n",
              "    }\n",
              "\n",
              "    .dataframe thead th {\n",
              "        text-align: right;\n",
              "    }\n",
              "</style>\n",
              "<table border=\"1\" class=\"dataframe\">\n",
              "  <thead>\n",
              "    <tr style=\"text-align: right;\">\n",
              "      <th></th>\n",
              "      <th>game_id</th>\n",
              "      <th>game_event_id</th>\n",
              "      <th>player_name</th>\n",
              "      <th>period</th>\n",
              "      <th>minutes_remaining</th>\n",
              "      <th>seconds_remaining</th>\n",
              "      <th>action_type</th>\n",
              "      <th>shot_type</th>\n",
              "      <th>shot_zone_basic</th>\n",
              "      <th>shot_zone_area</th>\n",
              "      <th>shot_zone_range</th>\n",
              "      <th>shot_distance</th>\n",
              "      <th>loc_x</th>\n",
              "      <th>loc_y</th>\n",
              "      <th>shot_made_flag</th>\n",
              "      <th>game_date</th>\n",
              "      <th>htm</th>\n",
              "      <th>vtm</th>\n",
              "      <th>season_type</th>\n",
              "    </tr>\n",
              "  </thead>\n",
              "  <tbody>\n",
              "    <tr>\n",
              "      <th>0</th>\n",
              "      <td>29600027</td>\n",
              "      <td>102</td>\n",
              "      <td>Kobe Bryant</td>\n",
              "      <td>1</td>\n",
              "      <td>0</td>\n",
              "      <td>42</td>\n",
              "      <td>Jump Shot</td>\n",
              "      <td>2PT Field Goal</td>\n",
              "      <td>Mid-Range</td>\n",
              "      <td>Left Side Center(LC)</td>\n",
              "      <td>16-24 ft.</td>\n",
              "      <td>18</td>\n",
              "      <td>-140</td>\n",
              "      <td>116</td>\n",
              "      <td>0</td>\n",
              "      <td>1996-11-03</td>\n",
              "      <td>LAL</td>\n",
              "      <td>MIN</td>\n",
              "      <td>Regular Season</td>\n",
              "    </tr>\n",
              "    <tr>\n",
              "      <th>1</th>\n",
              "      <td>29600031</td>\n",
              "      <td>127</td>\n",
              "      <td>Kobe Bryant</td>\n",
              "      <td>2</td>\n",
              "      <td>10</td>\n",
              "      <td>8</td>\n",
              "      <td>Jump Shot</td>\n",
              "      <td>2PT Field Goal</td>\n",
              "      <td>Mid-Range</td>\n",
              "      <td>Left Side Center(LC)</td>\n",
              "      <td>16-24 ft.</td>\n",
              "      <td>16</td>\n",
              "      <td>-131</td>\n",
              "      <td>97</td>\n",
              "      <td>0</td>\n",
              "      <td>1996-11-05</td>\n",
              "      <td>NYK</td>\n",
              "      <td>LAL</td>\n",
              "      <td>Regular Season</td>\n",
              "    </tr>\n",
              "    <tr>\n",
              "      <th>2</th>\n",
              "      <td>29600044</td>\n",
              "      <td>124</td>\n",
              "      <td>Kobe Bryant</td>\n",
              "      <td>2</td>\n",
              "      <td>8</td>\n",
              "      <td>37</td>\n",
              "      <td>Jump Shot</td>\n",
              "      <td>3PT Field Goal</td>\n",
              "      <td>Mid-Range</td>\n",
              "      <td>Left Side Center(LC)</td>\n",
              "      <td>16-24 ft.</td>\n",
              "      <td>23</td>\n",
              "      <td>-142</td>\n",
              "      <td>181</td>\n",
              "      <td>1</td>\n",
              "      <td>1996-11-06</td>\n",
              "      <td>CHH</td>\n",
              "      <td>LAL</td>\n",
              "      <td>Regular Season</td>\n",
              "    </tr>\n",
              "    <tr>\n",
              "      <th>3</th>\n",
              "      <td>29600044</td>\n",
              "      <td>144</td>\n",
              "      <td>Kobe Bryant</td>\n",
              "      <td>2</td>\n",
              "      <td>6</td>\n",
              "      <td>34</td>\n",
              "      <td>Jump Shot</td>\n",
              "      <td>3PT Field Goal</td>\n",
              "      <td>Restricted Area</td>\n",
              "      <td>Center(C)</td>\n",
              "      <td>Less Than 8 ft.</td>\n",
              "      <td>0</td>\n",
              "      <td>0</td>\n",
              "      <td>0</td>\n",
              "      <td>0</td>\n",
              "      <td>1996-11-06</td>\n",
              "      <td>CHH</td>\n",
              "      <td>LAL</td>\n",
              "      <td>Regular Season</td>\n",
              "    </tr>\n",
              "    <tr>\n",
              "      <th>4</th>\n",
              "      <td>29600044</td>\n",
              "      <td>151</td>\n",
              "      <td>Kobe Bryant</td>\n",
              "      <td>2</td>\n",
              "      <td>5</td>\n",
              "      <td>27</td>\n",
              "      <td>Jump Shot</td>\n",
              "      <td>2PT Field Goal</td>\n",
              "      <td>In The Paint (Non-RA)</td>\n",
              "      <td>Center(C)</td>\n",
              "      <td>8-16 ft.</td>\n",
              "      <td>13</td>\n",
              "      <td>-10</td>\n",
              "      <td>138</td>\n",
              "      <td>1</td>\n",
              "      <td>1996-11-06</td>\n",
              "      <td>CHH</td>\n",
              "      <td>LAL</td>\n",
              "      <td>Regular Season</td>\n",
              "    </tr>\n",
              "  </tbody>\n",
              "</table>\n",
              "</div>\n",
              "      <button class=\"colab-df-convert\" onclick=\"convertToInteractive('df-416c25a0-326e-4140-b30b-8f23a2f9cf4b')\"\n",
              "              title=\"Convert this dataframe to an interactive table.\"\n",
              "              style=\"display:none;\">\n",
              "        \n",
              "  <svg xmlns=\"http://www.w3.org/2000/svg\" height=\"24px\"viewBox=\"0 0 24 24\"\n",
              "       width=\"24px\">\n",
              "    <path d=\"M0 0h24v24H0V0z\" fill=\"none\"/>\n",
              "    <path d=\"M18.56 5.44l.94 2.06.94-2.06 2.06-.94-2.06-.94-.94-2.06-.94 2.06-2.06.94zm-11 1L8.5 8.5l.94-2.06 2.06-.94-2.06-.94L8.5 2.5l-.94 2.06-2.06.94zm10 10l.94 2.06.94-2.06 2.06-.94-2.06-.94-.94-2.06-.94 2.06-2.06.94z\"/><path d=\"M17.41 7.96l-1.37-1.37c-.4-.4-.92-.59-1.43-.59-.52 0-1.04.2-1.43.59L10.3 9.45l-7.72 7.72c-.78.78-.78 2.05 0 2.83L4 21.41c.39.39.9.59 1.41.59.51 0 1.02-.2 1.41-.59l7.78-7.78 2.81-2.81c.8-.78.8-2.07 0-2.86zM5.41 20L4 18.59l7.72-7.72 1.47 1.35L5.41 20z\"/>\n",
              "  </svg>\n",
              "      </button>\n",
              "      \n",
              "  <style>\n",
              "    .colab-df-container {\n",
              "      display:flex;\n",
              "      flex-wrap:wrap;\n",
              "      gap: 12px;\n",
              "    }\n",
              "\n",
              "    .colab-df-convert {\n",
              "      background-color: #E8F0FE;\n",
              "      border: none;\n",
              "      border-radius: 50%;\n",
              "      cursor: pointer;\n",
              "      display: none;\n",
              "      fill: #1967D2;\n",
              "      height: 32px;\n",
              "      padding: 0 0 0 0;\n",
              "      width: 32px;\n",
              "    }\n",
              "\n",
              "    .colab-df-convert:hover {\n",
              "      background-color: #E2EBFA;\n",
              "      box-shadow: 0px 1px 2px rgba(60, 64, 67, 0.3), 0px 1px 3px 1px rgba(60, 64, 67, 0.15);\n",
              "      fill: #174EA6;\n",
              "    }\n",
              "\n",
              "    [theme=dark] .colab-df-convert {\n",
              "      background-color: #3B4455;\n",
              "      fill: #D2E3FC;\n",
              "    }\n",
              "\n",
              "    [theme=dark] .colab-df-convert:hover {\n",
              "      background-color: #434B5C;\n",
              "      box-shadow: 0px 1px 3px 1px rgba(0, 0, 0, 0.15);\n",
              "      filter: drop-shadow(0px 1px 2px rgba(0, 0, 0, 0.3));\n",
              "      fill: #FFFFFF;\n",
              "    }\n",
              "  </style>\n",
              "\n",
              "      <script>\n",
              "        const buttonEl =\n",
              "          document.querySelector('#df-416c25a0-326e-4140-b30b-8f23a2f9cf4b button.colab-df-convert');\n",
              "        buttonEl.style.display =\n",
              "          google.colab.kernel.accessAllowed ? 'block' : 'none';\n",
              "\n",
              "        async function convertToInteractive(key) {\n",
              "          const element = document.querySelector('#df-416c25a0-326e-4140-b30b-8f23a2f9cf4b');\n",
              "          const dataTable =\n",
              "            await google.colab.kernel.invokeFunction('convertToInteractive',\n",
              "                                                     [key], {});\n",
              "          if (!dataTable) return;\n",
              "\n",
              "          const docLinkHtml = 'Like what you see? Visit the ' +\n",
              "            '<a target=\"_blank\" href=https://colab.research.google.com/notebooks/data_table.ipynb>data table notebook</a>'\n",
              "            + ' to learn more about interactive tables.';\n",
              "          element.innerHTML = '';\n",
              "          dataTable['output_type'] = 'display_data';\n",
              "          await google.colab.output.renderOutput(dataTable, element);\n",
              "          const docLink = document.createElement('div');\n",
              "          docLink.innerHTML = docLinkHtml;\n",
              "          element.appendChild(docLink);\n",
              "        }\n",
              "      </script>\n",
              "    </div>\n",
              "  </div>\n",
              "  "
            ]
          },
          "metadata": {},
          "execution_count": 44
        }
      ],
      "source": [
        "train.head()"
      ]
    },
    {
      "cell_type": "code",
      "source": [
        "train.game_id.unique()"
      ],
      "metadata": {
        "colab": {
          "base_uri": "https://localhost:8080/"
        },
        "id": "H_9mtl-_E-rG",
        "outputId": "83c91973-d979-4be3-ede2-c515db090931"
      },
      "id": "H_9mtl-_E-rG",
      "execution_count": 115,
      "outputs": [
        {
          "output_type": "execute_result",
          "data": {
            "text/plain": [
              "array([29600027, 29600031, 29600044, ..., 21300342, 21300357, 21300366])"
            ]
          },
          "metadata": {},
          "execution_count": 115
        }
      ]
    },
    {
      "cell_type": "code",
      "source": [
        "mps = pd.Series([])"
      ],
      "metadata": {
        "id": "2ZrKuWEQMg1Z"
      },
      "id": "2ZrKuWEQMg1Z",
      "execution_count": 161,
      "outputs": []
    },
    {
      "cell_type": "code",
      "source": [
        "df.head()"
      ],
      "metadata": {
        "colab": {
          "base_uri": "https://localhost:8080/",
          "height": 357
        },
        "id": "sbPzLTVPMhhK",
        "outputId": "f57523b4-3a29-45d9-ace4-9115f3482819"
      },
      "id": "sbPzLTVPMhhK",
      "execution_count": 160,
      "outputs": [
        {
          "output_type": "execute_result",
          "data": {
            "text/plain": [
              "    game_id  game_event_id  player_name  period  minutes_remaining  \\\n",
              "0  29600027            102  Kobe Bryant       1                  0   \n",
              "1  29600031            127  Kobe Bryant       2                 10   \n",
              "2  29600044            124  Kobe Bryant       2                  8   \n",
              "3  29600044            144  Kobe Bryant       2                  6   \n",
              "4  29600044            151  Kobe Bryant       2                  5   \n",
              "\n",
              "   seconds_remaining action_type       shot_type        shot_zone_basic  \\\n",
              "0                 42   Jump Shot  2PT Field Goal              Mid-Range   \n",
              "1                  8   Jump Shot  2PT Field Goal              Mid-Range   \n",
              "2                 37   Jump Shot  3PT Field Goal              Mid-Range   \n",
              "3                 34   Jump Shot  3PT Field Goal        Restricted Area   \n",
              "4                 27   Jump Shot  2PT Field Goal  In The Paint (Non-RA)   \n",
              "\n",
              "         shot_zone_area  shot_zone_range  shot_distance  loc_x  loc_y  \\\n",
              "0  Left Side Center(LC)        16-24 ft.             18   -140    116   \n",
              "1  Left Side Center(LC)        16-24 ft.             16   -131     97   \n",
              "2  Left Side Center(LC)        16-24 ft.             23   -142    181   \n",
              "3             Center(C)  Less Than 8 ft.              0      0      0   \n",
              "4             Center(C)         8-16 ft.             13    -10    138   \n",
              "\n",
              "   shot_made_flag  game_date  htm  vtm     season_type Opponent  \n",
              "0               0 1996-11-03  LAL  MIN  Regular Season      LAL  \n",
              "1               0 1996-11-05  NYK  LAL  Regular Season      NYK  \n",
              "2               1 1996-11-06  CHH  LAL  Regular Season      CHH  \n",
              "3               0 1996-11-06  CHH  LAL  Regular Season      CHH  \n",
              "4               1 1996-11-06  CHH  LAL  Regular Season      CHH  "
            ],
            "text/html": [
              "\n",
              "  <div id=\"df-a540720d-27cb-40b7-a21d-cb8bb01ee7a0\">\n",
              "    <div class=\"colab-df-container\">\n",
              "      <div>\n",
              "<style scoped>\n",
              "    .dataframe tbody tr th:only-of-type {\n",
              "        vertical-align: middle;\n",
              "    }\n",
              "\n",
              "    .dataframe tbody tr th {\n",
              "        vertical-align: top;\n",
              "    }\n",
              "\n",
              "    .dataframe thead th {\n",
              "        text-align: right;\n",
              "    }\n",
              "</style>\n",
              "<table border=\"1\" class=\"dataframe\">\n",
              "  <thead>\n",
              "    <tr style=\"text-align: right;\">\n",
              "      <th></th>\n",
              "      <th>game_id</th>\n",
              "      <th>game_event_id</th>\n",
              "      <th>player_name</th>\n",
              "      <th>period</th>\n",
              "      <th>minutes_remaining</th>\n",
              "      <th>seconds_remaining</th>\n",
              "      <th>action_type</th>\n",
              "      <th>shot_type</th>\n",
              "      <th>shot_zone_basic</th>\n",
              "      <th>shot_zone_area</th>\n",
              "      <th>shot_zone_range</th>\n",
              "      <th>shot_distance</th>\n",
              "      <th>loc_x</th>\n",
              "      <th>loc_y</th>\n",
              "      <th>shot_made_flag</th>\n",
              "      <th>game_date</th>\n",
              "      <th>htm</th>\n",
              "      <th>vtm</th>\n",
              "      <th>season_type</th>\n",
              "      <th>Opponent</th>\n",
              "    </tr>\n",
              "  </thead>\n",
              "  <tbody>\n",
              "    <tr>\n",
              "      <th>0</th>\n",
              "      <td>29600027</td>\n",
              "      <td>102</td>\n",
              "      <td>Kobe Bryant</td>\n",
              "      <td>1</td>\n",
              "      <td>0</td>\n",
              "      <td>42</td>\n",
              "      <td>Jump Shot</td>\n",
              "      <td>2PT Field Goal</td>\n",
              "      <td>Mid-Range</td>\n",
              "      <td>Left Side Center(LC)</td>\n",
              "      <td>16-24 ft.</td>\n",
              "      <td>18</td>\n",
              "      <td>-140</td>\n",
              "      <td>116</td>\n",
              "      <td>0</td>\n",
              "      <td>1996-11-03</td>\n",
              "      <td>LAL</td>\n",
              "      <td>MIN</td>\n",
              "      <td>Regular Season</td>\n",
              "      <td>LAL</td>\n",
              "    </tr>\n",
              "    <tr>\n",
              "      <th>1</th>\n",
              "      <td>29600031</td>\n",
              "      <td>127</td>\n",
              "      <td>Kobe Bryant</td>\n",
              "      <td>2</td>\n",
              "      <td>10</td>\n",
              "      <td>8</td>\n",
              "      <td>Jump Shot</td>\n",
              "      <td>2PT Field Goal</td>\n",
              "      <td>Mid-Range</td>\n",
              "      <td>Left Side Center(LC)</td>\n",
              "      <td>16-24 ft.</td>\n",
              "      <td>16</td>\n",
              "      <td>-131</td>\n",
              "      <td>97</td>\n",
              "      <td>0</td>\n",
              "      <td>1996-11-05</td>\n",
              "      <td>NYK</td>\n",
              "      <td>LAL</td>\n",
              "      <td>Regular Season</td>\n",
              "      <td>NYK</td>\n",
              "    </tr>\n",
              "    <tr>\n",
              "      <th>2</th>\n",
              "      <td>29600044</td>\n",
              "      <td>124</td>\n",
              "      <td>Kobe Bryant</td>\n",
              "      <td>2</td>\n",
              "      <td>8</td>\n",
              "      <td>37</td>\n",
              "      <td>Jump Shot</td>\n",
              "      <td>3PT Field Goal</td>\n",
              "      <td>Mid-Range</td>\n",
              "      <td>Left Side Center(LC)</td>\n",
              "      <td>16-24 ft.</td>\n",
              "      <td>23</td>\n",
              "      <td>-142</td>\n",
              "      <td>181</td>\n",
              "      <td>1</td>\n",
              "      <td>1996-11-06</td>\n",
              "      <td>CHH</td>\n",
              "      <td>LAL</td>\n",
              "      <td>Regular Season</td>\n",
              "      <td>CHH</td>\n",
              "    </tr>\n",
              "    <tr>\n",
              "      <th>3</th>\n",
              "      <td>29600044</td>\n",
              "      <td>144</td>\n",
              "      <td>Kobe Bryant</td>\n",
              "      <td>2</td>\n",
              "      <td>6</td>\n",
              "      <td>34</td>\n",
              "      <td>Jump Shot</td>\n",
              "      <td>3PT Field Goal</td>\n",
              "      <td>Restricted Area</td>\n",
              "      <td>Center(C)</td>\n",
              "      <td>Less Than 8 ft.</td>\n",
              "      <td>0</td>\n",
              "      <td>0</td>\n",
              "      <td>0</td>\n",
              "      <td>0</td>\n",
              "      <td>1996-11-06</td>\n",
              "      <td>CHH</td>\n",
              "      <td>LAL</td>\n",
              "      <td>Regular Season</td>\n",
              "      <td>CHH</td>\n",
              "    </tr>\n",
              "    <tr>\n",
              "      <th>4</th>\n",
              "      <td>29600044</td>\n",
              "      <td>151</td>\n",
              "      <td>Kobe Bryant</td>\n",
              "      <td>2</td>\n",
              "      <td>5</td>\n",
              "      <td>27</td>\n",
              "      <td>Jump Shot</td>\n",
              "      <td>2PT Field Goal</td>\n",
              "      <td>In The Paint (Non-RA)</td>\n",
              "      <td>Center(C)</td>\n",
              "      <td>8-16 ft.</td>\n",
              "      <td>13</td>\n",
              "      <td>-10</td>\n",
              "      <td>138</td>\n",
              "      <td>1</td>\n",
              "      <td>1996-11-06</td>\n",
              "      <td>CHH</td>\n",
              "      <td>LAL</td>\n",
              "      <td>Regular Season</td>\n",
              "      <td>CHH</td>\n",
              "    </tr>\n",
              "  </tbody>\n",
              "</table>\n",
              "</div>\n",
              "      <button class=\"colab-df-convert\" onclick=\"convertToInteractive('df-a540720d-27cb-40b7-a21d-cb8bb01ee7a0')\"\n",
              "              title=\"Convert this dataframe to an interactive table.\"\n",
              "              style=\"display:none;\">\n",
              "        \n",
              "  <svg xmlns=\"http://www.w3.org/2000/svg\" height=\"24px\"viewBox=\"0 0 24 24\"\n",
              "       width=\"24px\">\n",
              "    <path d=\"M0 0h24v24H0V0z\" fill=\"none\"/>\n",
              "    <path d=\"M18.56 5.44l.94 2.06.94-2.06 2.06-.94-2.06-.94-.94-2.06-.94 2.06-2.06.94zm-11 1L8.5 8.5l.94-2.06 2.06-.94-2.06-.94L8.5 2.5l-.94 2.06-2.06.94zm10 10l.94 2.06.94-2.06 2.06-.94-2.06-.94-.94-2.06-.94 2.06-2.06.94z\"/><path d=\"M17.41 7.96l-1.37-1.37c-.4-.4-.92-.59-1.43-.59-.52 0-1.04.2-1.43.59L10.3 9.45l-7.72 7.72c-.78.78-.78 2.05 0 2.83L4 21.41c.39.39.9.59 1.41.59.51 0 1.02-.2 1.41-.59l7.78-7.78 2.81-2.81c.8-.78.8-2.07 0-2.86zM5.41 20L4 18.59l7.72-7.72 1.47 1.35L5.41 20z\"/>\n",
              "  </svg>\n",
              "      </button>\n",
              "      \n",
              "  <style>\n",
              "    .colab-df-container {\n",
              "      display:flex;\n",
              "      flex-wrap:wrap;\n",
              "      gap: 12px;\n",
              "    }\n",
              "\n",
              "    .colab-df-convert {\n",
              "      background-color: #E8F0FE;\n",
              "      border: none;\n",
              "      border-radius: 50%;\n",
              "      cursor: pointer;\n",
              "      display: none;\n",
              "      fill: #1967D2;\n",
              "      height: 32px;\n",
              "      padding: 0 0 0 0;\n",
              "      width: 32px;\n",
              "    }\n",
              "\n",
              "    .colab-df-convert:hover {\n",
              "      background-color: #E2EBFA;\n",
              "      box-shadow: 0px 1px 2px rgba(60, 64, 67, 0.3), 0px 1px 3px 1px rgba(60, 64, 67, 0.15);\n",
              "      fill: #174EA6;\n",
              "    }\n",
              "\n",
              "    [theme=dark] .colab-df-convert {\n",
              "      background-color: #3B4455;\n",
              "      fill: #D2E3FC;\n",
              "    }\n",
              "\n",
              "    [theme=dark] .colab-df-convert:hover {\n",
              "      background-color: #434B5C;\n",
              "      box-shadow: 0px 1px 3px 1px rgba(0, 0, 0, 0.15);\n",
              "      filter: drop-shadow(0px 1px 2px rgba(0, 0, 0, 0.3));\n",
              "      fill: #FFFFFF;\n",
              "    }\n",
              "  </style>\n",
              "\n",
              "      <script>\n",
              "        const buttonEl =\n",
              "          document.querySelector('#df-a540720d-27cb-40b7-a21d-cb8bb01ee7a0 button.colab-df-convert');\n",
              "        buttonEl.style.display =\n",
              "          google.colab.kernel.accessAllowed ? 'block' : 'none';\n",
              "\n",
              "        async function convertToInteractive(key) {\n",
              "          const element = document.querySelector('#df-a540720d-27cb-40b7-a21d-cb8bb01ee7a0');\n",
              "          const dataTable =\n",
              "            await google.colab.kernel.invokeFunction('convertToInteractive',\n",
              "                                                     [key], {});\n",
              "          if (!dataTable) return;\n",
              "\n",
              "          const docLinkHtml = 'Like what you see? Visit the ' +\n",
              "            '<a target=\"_blank\" href=https://colab.research.google.com/notebooks/data_table.ipynb>data table notebook</a>'\n",
              "            + ' to learn more about interactive tables.';\n",
              "          element.innerHTML = '';\n",
              "          dataTable['output_type'] = 'display_data';\n",
              "          await google.colab.output.renderOutput(dataTable, element);\n",
              "          const docLink = document.createElement('div');\n",
              "          docLink.innerHTML = docLinkHtml;\n",
              "          element.appendChild(docLink);\n",
              "        }\n",
              "      </script>\n",
              "    </div>\n",
              "  </div>\n",
              "  "
            ]
          },
          "metadata": {},
          "execution_count": 160
        }
      ]
    },
    {
      "cell_type": "code",
      "source": [
        "mps = [-1]*len(df)\n",
        "mps"
      ],
      "metadata": {
        "id": "xm6FivkxM9hb"
      },
      "id": "xm6FivkxM9hb",
      "execution_count": null,
      "outputs": []
    },
    {
      "cell_type": "code",
      "source": [
        "mps = [-1]*len(df)\n",
        "mps[0] = 0\n",
        "mps"
      ],
      "metadata": {
        "id": "Qx7bmN98OlqG"
      },
      "id": "Qx7bmN98OlqG",
      "execution_count": null,
      "outputs": []
    },
    {
      "cell_type": "code",
      "source": [
        "df.shot_made_flag.dtype"
      ],
      "metadata": {
        "colab": {
          "base_uri": "https://localhost:8080/"
        },
        "id": "A0ilQpfHPmrm",
        "outputId": "65feb1d9-debf-4c62-b2f7-78f803b11604"
      },
      "id": "A0ilQpfHPmrm",
      "execution_count": 190,
      "outputs": [
        {
          "output_type": "execute_result",
          "data": {
            "text/plain": [
              "dtype('int64')"
            ]
          },
          "metadata": {},
          "execution_count": 190
        }
      ]
    },
    {
      "cell_type": "code",
      "source": [
        "df.shot_made_flag[4]"
      ],
      "metadata": {
        "colab": {
          "base_uri": "https://localhost:8080/"
        },
        "id": "TlbDRUSOPu9G",
        "outputId": "1a8670ab-d3f5-48b1-bc43-d3f200b8e641"
      },
      "id": "TlbDRUSOPu9G",
      "execution_count": 192,
      "outputs": [
        {
          "output_type": "execute_result",
          "data": {
            "text/plain": [
              "1"
            ]
          },
          "metadata": {},
          "execution_count": 192
        }
      ]
    },
    {
      "cell_type": "code",
      "source": [
        "mps = [-1]*len(df)\n",
        "mps[0] = 'None'\n",
        "\n",
        "for i in range(0, len(df)-1):\n",
        "  if df.shot_made_flag[i] == 0:\n",
        "      mps[i+1] = 0\n",
        "  else:\n",
        "      mps[i+1] = 1\n",
        "\n"
      ],
      "metadata": {
        "id": "j5kMSS0FFaxd"
      },
      "id": "j5kMSS0FFaxd",
      "execution_count": 202,
      "outputs": []
    },
    {
      "cell_type": "code",
      "source": [
        "mps"
      ],
      "metadata": {
        "id": "1Ll0O341PfXD"
      },
      "id": "1Ll0O341PfXD",
      "execution_count": null,
      "outputs": []
    },
    {
      "cell_type": "code",
      "source": [
        "df['mps'] = mps"
      ],
      "metadata": {
        "id": "MjAIzyZyPFHn"
      },
      "id": "MjAIzyZyPFHn",
      "execution_count": 185,
      "outputs": []
    },
    {
      "cell_type": "code",
      "source": [
        "df.head()"
      ],
      "metadata": {
        "colab": {
          "base_uri": "https://localhost:8080/",
          "height": 357
        },
        "id": "o9beLt0OPCPZ",
        "outputId": "5e205de1-c26b-4455-d415-e1f1940a124c"
      },
      "id": "o9beLt0OPCPZ",
      "execution_count": 186,
      "outputs": [
        {
          "output_type": "execute_result",
          "data": {
            "text/plain": [
              "    game_id  game_event_id  player_name  period  minutes_remaining  \\\n",
              "0  29600027            102  Kobe Bryant       1                  0   \n",
              "1  29600031            127  Kobe Bryant       2                 10   \n",
              "2  29600044            124  Kobe Bryant       2                  8   \n",
              "3  29600044            144  Kobe Bryant       2                  6   \n",
              "4  29600044            151  Kobe Bryant       2                  5   \n",
              "\n",
              "   seconds_remaining action_type       shot_type        shot_zone_basic  \\\n",
              "0                 42   Jump Shot  2PT Field Goal              Mid-Range   \n",
              "1                  8   Jump Shot  2PT Field Goal              Mid-Range   \n",
              "2                 37   Jump Shot  3PT Field Goal              Mid-Range   \n",
              "3                 34   Jump Shot  3PT Field Goal        Restricted Area   \n",
              "4                 27   Jump Shot  2PT Field Goal  In The Paint (Non-RA)   \n",
              "\n",
              "         shot_zone_area  shot_zone_range  shot_distance  loc_x  loc_y  \\\n",
              "0  Left Side Center(LC)        16-24 ft.             18   -140    116   \n",
              "1  Left Side Center(LC)        16-24 ft.             16   -131     97   \n",
              "2  Left Side Center(LC)        16-24 ft.             23   -142    181   \n",
              "3             Center(C)  Less Than 8 ft.              0      0      0   \n",
              "4             Center(C)         8-16 ft.             13    -10    138   \n",
              "\n",
              "   shot_made_flag   game_date  htm  vtm     season_type   mps  \n",
              "0               0  1996-11-03  LAL  MIN  Regular Season  None  \n",
              "1               0  1996-11-05  NYK  LAL  Regular Season  None  \n",
              "2               1  1996-11-06  CHH  LAL  Regular Season  None  \n",
              "3               0  1996-11-06  CHH  LAL  Regular Season  None  \n",
              "4               1  1996-11-06  CHH  LAL  Regular Season  None  "
            ],
            "text/html": [
              "\n",
              "  <div id=\"df-cccd8523-3769-473c-8b96-57fd395f9ed0\">\n",
              "    <div class=\"colab-df-container\">\n",
              "      <div>\n",
              "<style scoped>\n",
              "    .dataframe tbody tr th:only-of-type {\n",
              "        vertical-align: middle;\n",
              "    }\n",
              "\n",
              "    .dataframe tbody tr th {\n",
              "        vertical-align: top;\n",
              "    }\n",
              "\n",
              "    .dataframe thead th {\n",
              "        text-align: right;\n",
              "    }\n",
              "</style>\n",
              "<table border=\"1\" class=\"dataframe\">\n",
              "  <thead>\n",
              "    <tr style=\"text-align: right;\">\n",
              "      <th></th>\n",
              "      <th>game_id</th>\n",
              "      <th>game_event_id</th>\n",
              "      <th>player_name</th>\n",
              "      <th>period</th>\n",
              "      <th>minutes_remaining</th>\n",
              "      <th>seconds_remaining</th>\n",
              "      <th>action_type</th>\n",
              "      <th>shot_type</th>\n",
              "      <th>shot_zone_basic</th>\n",
              "      <th>shot_zone_area</th>\n",
              "      <th>shot_zone_range</th>\n",
              "      <th>shot_distance</th>\n",
              "      <th>loc_x</th>\n",
              "      <th>loc_y</th>\n",
              "      <th>shot_made_flag</th>\n",
              "      <th>game_date</th>\n",
              "      <th>htm</th>\n",
              "      <th>vtm</th>\n",
              "      <th>season_type</th>\n",
              "      <th>mps</th>\n",
              "    </tr>\n",
              "  </thead>\n",
              "  <tbody>\n",
              "    <tr>\n",
              "      <th>0</th>\n",
              "      <td>29600027</td>\n",
              "      <td>102</td>\n",
              "      <td>Kobe Bryant</td>\n",
              "      <td>1</td>\n",
              "      <td>0</td>\n",
              "      <td>42</td>\n",
              "      <td>Jump Shot</td>\n",
              "      <td>2PT Field Goal</td>\n",
              "      <td>Mid-Range</td>\n",
              "      <td>Left Side Center(LC)</td>\n",
              "      <td>16-24 ft.</td>\n",
              "      <td>18</td>\n",
              "      <td>-140</td>\n",
              "      <td>116</td>\n",
              "      <td>0</td>\n",
              "      <td>1996-11-03</td>\n",
              "      <td>LAL</td>\n",
              "      <td>MIN</td>\n",
              "      <td>Regular Season</td>\n",
              "      <td>None</td>\n",
              "    </tr>\n",
              "    <tr>\n",
              "      <th>1</th>\n",
              "      <td>29600031</td>\n",
              "      <td>127</td>\n",
              "      <td>Kobe Bryant</td>\n",
              "      <td>2</td>\n",
              "      <td>10</td>\n",
              "      <td>8</td>\n",
              "      <td>Jump Shot</td>\n",
              "      <td>2PT Field Goal</td>\n",
              "      <td>Mid-Range</td>\n",
              "      <td>Left Side Center(LC)</td>\n",
              "      <td>16-24 ft.</td>\n",
              "      <td>16</td>\n",
              "      <td>-131</td>\n",
              "      <td>97</td>\n",
              "      <td>0</td>\n",
              "      <td>1996-11-05</td>\n",
              "      <td>NYK</td>\n",
              "      <td>LAL</td>\n",
              "      <td>Regular Season</td>\n",
              "      <td>None</td>\n",
              "    </tr>\n",
              "    <tr>\n",
              "      <th>2</th>\n",
              "      <td>29600044</td>\n",
              "      <td>124</td>\n",
              "      <td>Kobe Bryant</td>\n",
              "      <td>2</td>\n",
              "      <td>8</td>\n",
              "      <td>37</td>\n",
              "      <td>Jump Shot</td>\n",
              "      <td>3PT Field Goal</td>\n",
              "      <td>Mid-Range</td>\n",
              "      <td>Left Side Center(LC)</td>\n",
              "      <td>16-24 ft.</td>\n",
              "      <td>23</td>\n",
              "      <td>-142</td>\n",
              "      <td>181</td>\n",
              "      <td>1</td>\n",
              "      <td>1996-11-06</td>\n",
              "      <td>CHH</td>\n",
              "      <td>LAL</td>\n",
              "      <td>Regular Season</td>\n",
              "      <td>None</td>\n",
              "    </tr>\n",
              "    <tr>\n",
              "      <th>3</th>\n",
              "      <td>29600044</td>\n",
              "      <td>144</td>\n",
              "      <td>Kobe Bryant</td>\n",
              "      <td>2</td>\n",
              "      <td>6</td>\n",
              "      <td>34</td>\n",
              "      <td>Jump Shot</td>\n",
              "      <td>3PT Field Goal</td>\n",
              "      <td>Restricted Area</td>\n",
              "      <td>Center(C)</td>\n",
              "      <td>Less Than 8 ft.</td>\n",
              "      <td>0</td>\n",
              "      <td>0</td>\n",
              "      <td>0</td>\n",
              "      <td>0</td>\n",
              "      <td>1996-11-06</td>\n",
              "      <td>CHH</td>\n",
              "      <td>LAL</td>\n",
              "      <td>Regular Season</td>\n",
              "      <td>None</td>\n",
              "    </tr>\n",
              "    <tr>\n",
              "      <th>4</th>\n",
              "      <td>29600044</td>\n",
              "      <td>151</td>\n",
              "      <td>Kobe Bryant</td>\n",
              "      <td>2</td>\n",
              "      <td>5</td>\n",
              "      <td>27</td>\n",
              "      <td>Jump Shot</td>\n",
              "      <td>2PT Field Goal</td>\n",
              "      <td>In The Paint (Non-RA)</td>\n",
              "      <td>Center(C)</td>\n",
              "      <td>8-16 ft.</td>\n",
              "      <td>13</td>\n",
              "      <td>-10</td>\n",
              "      <td>138</td>\n",
              "      <td>1</td>\n",
              "      <td>1996-11-06</td>\n",
              "      <td>CHH</td>\n",
              "      <td>LAL</td>\n",
              "      <td>Regular Season</td>\n",
              "      <td>None</td>\n",
              "    </tr>\n",
              "  </tbody>\n",
              "</table>\n",
              "</div>\n",
              "      <button class=\"colab-df-convert\" onclick=\"convertToInteractive('df-cccd8523-3769-473c-8b96-57fd395f9ed0')\"\n",
              "              title=\"Convert this dataframe to an interactive table.\"\n",
              "              style=\"display:none;\">\n",
              "        \n",
              "  <svg xmlns=\"http://www.w3.org/2000/svg\" height=\"24px\"viewBox=\"0 0 24 24\"\n",
              "       width=\"24px\">\n",
              "    <path d=\"M0 0h24v24H0V0z\" fill=\"none\"/>\n",
              "    <path d=\"M18.56 5.44l.94 2.06.94-2.06 2.06-.94-2.06-.94-.94-2.06-.94 2.06-2.06.94zm-11 1L8.5 8.5l.94-2.06 2.06-.94-2.06-.94L8.5 2.5l-.94 2.06-2.06.94zm10 10l.94 2.06.94-2.06 2.06-.94-2.06-.94-.94-2.06-.94 2.06-2.06.94z\"/><path d=\"M17.41 7.96l-1.37-1.37c-.4-.4-.92-.59-1.43-.59-.52 0-1.04.2-1.43.59L10.3 9.45l-7.72 7.72c-.78.78-.78 2.05 0 2.83L4 21.41c.39.39.9.59 1.41.59.51 0 1.02-.2 1.41-.59l7.78-7.78 2.81-2.81c.8-.78.8-2.07 0-2.86zM5.41 20L4 18.59l7.72-7.72 1.47 1.35L5.41 20z\"/>\n",
              "  </svg>\n",
              "      </button>\n",
              "      \n",
              "  <style>\n",
              "    .colab-df-container {\n",
              "      display:flex;\n",
              "      flex-wrap:wrap;\n",
              "      gap: 12px;\n",
              "    }\n",
              "\n",
              "    .colab-df-convert {\n",
              "      background-color: #E8F0FE;\n",
              "      border: none;\n",
              "      border-radius: 50%;\n",
              "      cursor: pointer;\n",
              "      display: none;\n",
              "      fill: #1967D2;\n",
              "      height: 32px;\n",
              "      padding: 0 0 0 0;\n",
              "      width: 32px;\n",
              "    }\n",
              "\n",
              "    .colab-df-convert:hover {\n",
              "      background-color: #E2EBFA;\n",
              "      box-shadow: 0px 1px 2px rgba(60, 64, 67, 0.3), 0px 1px 3px 1px rgba(60, 64, 67, 0.15);\n",
              "      fill: #174EA6;\n",
              "    }\n",
              "\n",
              "    [theme=dark] .colab-df-convert {\n",
              "      background-color: #3B4455;\n",
              "      fill: #D2E3FC;\n",
              "    }\n",
              "\n",
              "    [theme=dark] .colab-df-convert:hover {\n",
              "      background-color: #434B5C;\n",
              "      box-shadow: 0px 1px 3px 1px rgba(0, 0, 0, 0.15);\n",
              "      filter: drop-shadow(0px 1px 2px rgba(0, 0, 0, 0.3));\n",
              "      fill: #FFFFFF;\n",
              "    }\n",
              "  </style>\n",
              "\n",
              "      <script>\n",
              "        const buttonEl =\n",
              "          document.querySelector('#df-cccd8523-3769-473c-8b96-57fd395f9ed0 button.colab-df-convert');\n",
              "        buttonEl.style.display =\n",
              "          google.colab.kernel.accessAllowed ? 'block' : 'none';\n",
              "\n",
              "        async function convertToInteractive(key) {\n",
              "          const element = document.querySelector('#df-cccd8523-3769-473c-8b96-57fd395f9ed0');\n",
              "          const dataTable =\n",
              "            await google.colab.kernel.invokeFunction('convertToInteractive',\n",
              "                                                     [key], {});\n",
              "          if (!dataTable) return;\n",
              "\n",
              "          const docLinkHtml = 'Like what you see? Visit the ' +\n",
              "            '<a target=\"_blank\" href=https://colab.research.google.com/notebooks/data_table.ipynb>data table notebook</a>'\n",
              "            + ' to learn more about interactive tables.';\n",
              "          element.innerHTML = '';\n",
              "          dataTable['output_type'] = 'display_data';\n",
              "          await google.colab.output.renderOutput(dataTable, element);\n",
              "          const docLink = document.createElement('div');\n",
              "          docLink.innerHTML = docLinkHtml;\n",
              "          element.appendChild(docLink);\n",
              "        }\n",
              "      </script>\n",
              "    </div>\n",
              "  </div>\n",
              "  "
            ]
          },
          "metadata": {},
          "execution_count": 186
        }
      ]
    },
    {
      "cell_type": "code",
      "source": [
        "df[['htm', 'vtm']]"
      ],
      "metadata": {
        "id": "9AGvgJGT3EcC"
      },
      "id": "9AGvgJGT3EcC",
      "execution_count": null,
      "outputs": []
    },
    {
      "cell_type": "markdown",
      "id": "90c22148",
      "metadata": {
        "deletable": false,
        "editable": false,
        "nbgrader": {
          "cell_type": "markdown",
          "checksum": "387056a7a60790c326ae8ef4dc007f39",
          "grade": false,
          "grade_id": "cell-061f9cf27e568eae",
          "locked": true,
          "schema_version": 3,
          "solution": false,
          "task": false
        },
        "id": "90c22148"
      },
      "source": [
        "## 1.3 새로운 feature를 만드는 `feature_engineering` 함수를 작성하세요.\n",
        "\n",
        "- 새로운 이름을 갖는 최소 2개 이상의 새로운 feature를 만드세요. 아래의 리스트를 사용하셔도 되고 스스로의 아이디어로 만들어 주셔도 괜찮습니다.\n",
        "    - **Homecourt Advantage**: 홈 팀(`htm`)이 Los Angeles Lakers (`LAL`)인지 여부\n",
        "    - **Opponent**: LA Lakers를 상대하는 팀을 나타내는 feature\n",
        "    - **Seconds remaining in the period**: 피리어드에 남은 총 시간 (분과 초를 합칩니다)\n",
        "    - **Seconds remaining in the game**: 게임에 남은 총 시간 (피리어드와 초를 합칩니다). 농구에서 게임은 총 4개의 피리어드로 이루어져 있습니다 (각 12분)\n",
        "    - **Made previous shot**: 코비 브라이언트의 예전 슛이 성공했는지 여부\n",
        "- 학습에 사용하지 않는 특성은 drop하세요.\n",
        "    "
      ]
    },
    {
      "cell_type": "code",
      "execution_count": 211,
      "id": "a85431a9",
      "metadata": {
        "deletable": false,
        "nbgrader": {
          "cell_type": "code",
          "checksum": "cf3c3be617fbfaa735f3ebbd6e8bac4f",
          "grade": false,
          "grade_id": "1-3",
          "locked": false,
          "schema_version": 3,
          "solution": true,
          "task": false
        },
        "id": "a85431a9"
      },
      "outputs": [],
      "source": [
        "def feature_engineering(df):\n",
        "    df_tmp = df.copy()\n",
        "\n",
        "    # YOUR CODE HERE\n",
        "    df_tmp['Homecourt Advantage'] = df_tmp.htm.map(lambda x: 1 if 'LAL' in x else 0)\n",
        "    df_tmp['Seconds remaining in the period'] = df_tmp['minutes_remaining']*60 + df_tmp['seconds_remaining']\n",
        "    df_tmp['Seconds remaining in the game'] = df_tmp['period'].map(lambda x: (4 - x)*12*60) + df_tmp['Seconds remaining in the period']\n",
        "\n",
        "    df_tmp.drop(['player_name', 'game_id', 'game_event_id'], axis = 1, inplace = True)\n",
        "    \n",
        "    list = []\n",
        "    df_tmp.reset_index(drop = True, inplace = True)\n",
        "    for i in range(len(df_tmp)):\n",
        "      if df_tmp.htm[i] != 'LAL':\n",
        "        list.append(df_tmp.htm[i])\n",
        "      elif df_tmp.vtm[i] != 'LAL':\n",
        "        list.append(df_tmp.vtm[i])\n",
        "    df_tmp['Opponent'] = list\n",
        "\n",
        "    mps = [-1]*len(df_tmp)\n",
        "    mps[0] = 'None'\n",
        "\n",
        "    for i in range(0, len(df_tmp)-1):\n",
        "      if df_tmp.shot_made_flag[i] == 0:\n",
        "        mps[i+1] = 0\n",
        "    else:\n",
        "      mps[i+1] = 1\n",
        "    df_tmp['Made previous shot'] = mps\n",
        "    # YOUR CODE ENDS HERE\n",
        "\n",
        "    return df_tmp"
      ]
    },
    {
      "cell_type": "code",
      "source": [
        "    mps = [-1]*len(df)\n",
        "    mps[0] = 'None'"
      ],
      "metadata": {
        "id": "uttndujeSHna"
      },
      "id": "uttndujeSHna",
      "execution_count": 207,
      "outputs": []
    },
    {
      "cell_type": "code",
      "source": [
        "len(test)"
      ],
      "metadata": {
        "colab": {
          "base_uri": "https://localhost:8080/"
        },
        "id": "5W22nmWGSL70",
        "outputId": "6124313c-c692-4a67-fa9e-fac2e116ede5"
      },
      "id": "5W22nmWGSL70",
      "execution_count": 209,
      "outputs": [
        {
          "output_type": "execute_result",
          "data": {
            "text/plain": [
              "1826"
            ]
          },
          "metadata": {},
          "execution_count": 209
        }
      ]
    },
    {
      "cell_type": "code",
      "source": [
        "test.reset_index(drop = True, inplace = True)\n",
        "for i in range(0, len(test)-1):\n",
        "  if test.shot_made_flag[i] == 0:\n",
        "    mps[i+1] = 0\n",
        "  else:\n",
        "    mps[i+1] = 1\n",
        "test['Made previous shot'] = mps"
      ],
      "metadata": {
        "colab": {
          "base_uri": "https://localhost:8080/",
          "height": 362
        },
        "id": "CwXiOC1UR1C4",
        "outputId": "4981c153-d184-4f95-f19b-5495eec6057d"
      },
      "id": "CwXiOC1UR1C4",
      "execution_count": 210,
      "outputs": [
        {
          "output_type": "error",
          "ename": "ValueError",
          "evalue": "ignored",
          "traceback": [
            "\u001b[0;31m---------------------------------------------------------------------------\u001b[0m",
            "\u001b[0;31mValueError\u001b[0m                                Traceback (most recent call last)",
            "\u001b[0;32m<ipython-input-210-2315c12a0ee5>\u001b[0m in \u001b[0;36m<module>\u001b[0;34m\u001b[0m\n\u001b[1;32m      5\u001b[0m   \u001b[0;32melse\u001b[0m\u001b[0;34m:\u001b[0m\u001b[0;34m\u001b[0m\u001b[0;34m\u001b[0m\u001b[0m\n\u001b[1;32m      6\u001b[0m     \u001b[0mmps\u001b[0m\u001b[0;34m[\u001b[0m\u001b[0mi\u001b[0m\u001b[0;34m+\u001b[0m\u001b[0;36m1\u001b[0m\u001b[0;34m]\u001b[0m \u001b[0;34m=\u001b[0m \u001b[0;36m1\u001b[0m\u001b[0;34m\u001b[0m\u001b[0;34m\u001b[0m\u001b[0m\n\u001b[0;32m----> 7\u001b[0;31m \u001b[0mtest\u001b[0m\u001b[0;34m[\u001b[0m\u001b[0;34m'Made previous shot'\u001b[0m\u001b[0;34m]\u001b[0m \u001b[0;34m=\u001b[0m \u001b[0mmps\u001b[0m\u001b[0;34m\u001b[0m\u001b[0;34m\u001b[0m\u001b[0m\n\u001b[0m",
            "\u001b[0;32m/usr/local/lib/python3.7/dist-packages/pandas/core/frame.py\u001b[0m in \u001b[0;36m__setitem__\u001b[0;34m(self, key, value)\u001b[0m\n\u001b[1;32m   3610\u001b[0m         \u001b[0;32melse\u001b[0m\u001b[0;34m:\u001b[0m\u001b[0;34m\u001b[0m\u001b[0;34m\u001b[0m\u001b[0m\n\u001b[1;32m   3611\u001b[0m             \u001b[0;31m# set column\u001b[0m\u001b[0;34m\u001b[0m\u001b[0;34m\u001b[0m\u001b[0;34m\u001b[0m\u001b[0m\n\u001b[0;32m-> 3612\u001b[0;31m             \u001b[0mself\u001b[0m\u001b[0;34m.\u001b[0m\u001b[0m_set_item\u001b[0m\u001b[0;34m(\u001b[0m\u001b[0mkey\u001b[0m\u001b[0;34m,\u001b[0m \u001b[0mvalue\u001b[0m\u001b[0;34m)\u001b[0m\u001b[0;34m\u001b[0m\u001b[0;34m\u001b[0m\u001b[0m\n\u001b[0m\u001b[1;32m   3613\u001b[0m \u001b[0;34m\u001b[0m\u001b[0m\n\u001b[1;32m   3614\u001b[0m     \u001b[0;32mdef\u001b[0m \u001b[0m_setitem_slice\u001b[0m\u001b[0;34m(\u001b[0m\u001b[0mself\u001b[0m\u001b[0;34m,\u001b[0m \u001b[0mkey\u001b[0m\u001b[0;34m:\u001b[0m \u001b[0mslice\u001b[0m\u001b[0;34m,\u001b[0m \u001b[0mvalue\u001b[0m\u001b[0;34m)\u001b[0m\u001b[0;34m:\u001b[0m\u001b[0;34m\u001b[0m\u001b[0;34m\u001b[0m\u001b[0m\n",
            "\u001b[0;32m/usr/local/lib/python3.7/dist-packages/pandas/core/frame.py\u001b[0m in \u001b[0;36m_set_item\u001b[0;34m(self, key, value)\u001b[0m\n\u001b[1;32m   3782\u001b[0m         \u001b[0mensure\u001b[0m \u001b[0mhomogeneity\u001b[0m\u001b[0;34m.\u001b[0m\u001b[0;34m\u001b[0m\u001b[0;34m\u001b[0m\u001b[0m\n\u001b[1;32m   3783\u001b[0m         \"\"\"\n\u001b[0;32m-> 3784\u001b[0;31m         \u001b[0mvalue\u001b[0m \u001b[0;34m=\u001b[0m \u001b[0mself\u001b[0m\u001b[0;34m.\u001b[0m\u001b[0m_sanitize_column\u001b[0m\u001b[0;34m(\u001b[0m\u001b[0mvalue\u001b[0m\u001b[0;34m)\u001b[0m\u001b[0;34m\u001b[0m\u001b[0;34m\u001b[0m\u001b[0m\n\u001b[0m\u001b[1;32m   3785\u001b[0m \u001b[0;34m\u001b[0m\u001b[0m\n\u001b[1;32m   3786\u001b[0m         if (\n",
            "\u001b[0;32m/usr/local/lib/python3.7/dist-packages/pandas/core/frame.py\u001b[0m in \u001b[0;36m_sanitize_column\u001b[0;34m(self, value)\u001b[0m\n\u001b[1;32m   4507\u001b[0m \u001b[0;34m\u001b[0m\u001b[0m\n\u001b[1;32m   4508\u001b[0m         \u001b[0;32mif\u001b[0m \u001b[0mis_list_like\u001b[0m\u001b[0;34m(\u001b[0m\u001b[0mvalue\u001b[0m\u001b[0;34m)\u001b[0m\u001b[0;34m:\u001b[0m\u001b[0;34m\u001b[0m\u001b[0;34m\u001b[0m\u001b[0m\n\u001b[0;32m-> 4509\u001b[0;31m             \u001b[0mcom\u001b[0m\u001b[0;34m.\u001b[0m\u001b[0mrequire_length_match\u001b[0m\u001b[0;34m(\u001b[0m\u001b[0mvalue\u001b[0m\u001b[0;34m,\u001b[0m \u001b[0mself\u001b[0m\u001b[0;34m.\u001b[0m\u001b[0mindex\u001b[0m\u001b[0;34m)\u001b[0m\u001b[0;34m\u001b[0m\u001b[0;34m\u001b[0m\u001b[0m\n\u001b[0m\u001b[1;32m   4510\u001b[0m         \u001b[0;32mreturn\u001b[0m \u001b[0msanitize_array\u001b[0m\u001b[0;34m(\u001b[0m\u001b[0mvalue\u001b[0m\u001b[0;34m,\u001b[0m \u001b[0mself\u001b[0m\u001b[0;34m.\u001b[0m\u001b[0mindex\u001b[0m\u001b[0;34m,\u001b[0m \u001b[0mcopy\u001b[0m\u001b[0;34m=\u001b[0m\u001b[0;32mTrue\u001b[0m\u001b[0;34m,\u001b[0m \u001b[0mallow_2d\u001b[0m\u001b[0;34m=\u001b[0m\u001b[0;32mTrue\u001b[0m\u001b[0;34m)\u001b[0m\u001b[0;34m\u001b[0m\u001b[0;34m\u001b[0m\u001b[0m\n\u001b[1;32m   4511\u001b[0m \u001b[0;34m\u001b[0m\u001b[0m\n",
            "\u001b[0;32m/usr/local/lib/python3.7/dist-packages/pandas/core/common.py\u001b[0m in \u001b[0;36mrequire_length_match\u001b[0;34m(data, index)\u001b[0m\n\u001b[1;32m    530\u001b[0m     \u001b[0;32mif\u001b[0m \u001b[0mlen\u001b[0m\u001b[0;34m(\u001b[0m\u001b[0mdata\u001b[0m\u001b[0;34m)\u001b[0m \u001b[0;34m!=\u001b[0m \u001b[0mlen\u001b[0m\u001b[0;34m(\u001b[0m\u001b[0mindex\u001b[0m\u001b[0;34m)\u001b[0m\u001b[0;34m:\u001b[0m\u001b[0;34m\u001b[0m\u001b[0;34m\u001b[0m\u001b[0m\n\u001b[1;32m    531\u001b[0m         raise ValueError(\n\u001b[0;32m--> 532\u001b[0;31m             \u001b[0;34m\"Length of values \"\u001b[0m\u001b[0;34m\u001b[0m\u001b[0;34m\u001b[0m\u001b[0m\n\u001b[0m\u001b[1;32m    533\u001b[0m             \u001b[0;34mf\"({len(data)}) \"\u001b[0m\u001b[0;34m\u001b[0m\u001b[0;34m\u001b[0m\u001b[0m\n\u001b[1;32m    534\u001b[0m             \u001b[0;34m\"does not match length of index \"\u001b[0m\u001b[0;34m\u001b[0m\u001b[0;34m\u001b[0m\u001b[0m\n",
            "\u001b[0;31mValueError\u001b[0m: Length of values (30697) does not match length of index (1826)"
          ]
        }
      ]
    },
    {
      "cell_type": "code",
      "execution_count": 212,
      "id": "e943da7a",
      "metadata": {
        "deletable": false,
        "editable": false,
        "nbgrader": {
          "cell_type": "code",
          "checksum": "bf8f41ed0107062288cff199a8c111a3",
          "grade": false,
          "grade_id": "cell-15e97fab22fdd400",
          "locked": true,
          "schema_version": 3,
          "solution": false,
          "task": false
        },
        "id": "e943da7a"
      },
      "outputs": [],
      "source": [
        "train_processed = feature_engineering(train)\n",
        "test_processed = feature_engineering(test)"
      ]
    },
    {
      "cell_type": "code",
      "execution_count": null,
      "id": "20ec9b5d",
      "metadata": {
        "deletable": false,
        "editable": false,
        "nbgrader": {
          "cell_type": "code",
          "checksum": "14be208f54414851c5aaab9bcfabd8d2",
          "grade": true,
          "grade_id": "1-3_test",
          "locked": true,
          "points": 1,
          "schema_version": 3,
          "solution": false,
          "task": false
        },
        "id": "20ec9b5d"
      },
      "outputs": [],
      "source": [
        "train_processed.head()"
      ]
    },
    {
      "cell_type": "code",
      "execution_count": 111,
      "id": "e1aff31a",
      "metadata": {
        "deletable": false,
        "editable": false,
        "nbgrader": {
          "cell_type": "code",
          "checksum": "881a58f7fe6465e076c93f8e70722c2c",
          "grade": false,
          "grade_id": "cell-58139b44992fc52b",
          "locked": true,
          "schema_version": 3,
          "solution": false,
          "task": false
        },
        "id": "e1aff31a",
        "colab": {
          "base_uri": "https://localhost:8080/",
          "height": 409
        },
        "outputId": "788133e8-0c78-4ff7-d8f0-17852a1ceaf7"
      },
      "outputs": [
        {
          "output_type": "execute_result",
          "data": {
            "text/plain": [
              "   period  minutes_remaining  seconds_remaining           action_type  \\\n",
              "0       1                  6                 13             Jump Shot   \n",
              "1       1                  4                 45             Jump Shot   \n",
              "2       3                  5                 52  Turnaround Jump Shot   \n",
              "3       4                  9                 36             Jump Shot   \n",
              "4       4                  7                 16             Jump Shot   \n",
              "\n",
              "        shot_type        shot_zone_basic        shot_zone_area  \\\n",
              "0  2PT Field Goal              Mid-Range             Center(C)   \n",
              "1  2PT Field Goal  In The Paint (Non-RA)             Center(C)   \n",
              "2  2PT Field Goal              Mid-Range         Right Side(R)   \n",
              "3  3PT Field Goal      Above the Break 3  Left Side Center(LC)   \n",
              "4  2PT Field Goal              Mid-Range          Left Side(L)   \n",
              "\n",
              "   shot_zone_range  shot_distance  loc_x  loc_y  shot_made_flag  game_date  \\\n",
              "0        16-24 ft.             20    -54    201               0 2014-10-28   \n",
              "1  Less Than 8 ft.              6    -16     63               1 2014-10-28   \n",
              "2        16-24 ft.             18    166     78               0 2014-10-28   \n",
              "3          24+ ft.             27   -138    241               0 2014-10-28   \n",
              "4        16-24 ft.             19   -179     88               0 2014-10-28   \n",
              "\n",
              "   htm  vtm     season_type  Homecourt Advantage  \\\n",
              "0  LAL  HOU  Regular Season                    1   \n",
              "1  LAL  HOU  Regular Season                    1   \n",
              "2  LAL  HOU  Regular Season                    1   \n",
              "3  LAL  HOU  Regular Season                    1   \n",
              "4  LAL  HOU  Regular Season                    1   \n",
              "\n",
              "   Seconds remaining in the period  Seconds remaining in the game Opponent  \n",
              "0                              373                           2533      HOU  \n",
              "1                              285                           2445      HOU  \n",
              "2                              352                           1072      HOU  \n",
              "3                              576                            576      HOU  \n",
              "4                              436                            436      HOU  "
            ],
            "text/html": [
              "\n",
              "  <div id=\"df-b64e8738-9c01-4f03-8c58-dfad4a809695\">\n",
              "    <div class=\"colab-df-container\">\n",
              "      <div>\n",
              "<style scoped>\n",
              "    .dataframe tbody tr th:only-of-type {\n",
              "        vertical-align: middle;\n",
              "    }\n",
              "\n",
              "    .dataframe tbody tr th {\n",
              "        vertical-align: top;\n",
              "    }\n",
              "\n",
              "    .dataframe thead th {\n",
              "        text-align: right;\n",
              "    }\n",
              "</style>\n",
              "<table border=\"1\" class=\"dataframe\">\n",
              "  <thead>\n",
              "    <tr style=\"text-align: right;\">\n",
              "      <th></th>\n",
              "      <th>period</th>\n",
              "      <th>minutes_remaining</th>\n",
              "      <th>seconds_remaining</th>\n",
              "      <th>action_type</th>\n",
              "      <th>shot_type</th>\n",
              "      <th>shot_zone_basic</th>\n",
              "      <th>shot_zone_area</th>\n",
              "      <th>shot_zone_range</th>\n",
              "      <th>shot_distance</th>\n",
              "      <th>loc_x</th>\n",
              "      <th>loc_y</th>\n",
              "      <th>shot_made_flag</th>\n",
              "      <th>game_date</th>\n",
              "      <th>htm</th>\n",
              "      <th>vtm</th>\n",
              "      <th>season_type</th>\n",
              "      <th>Homecourt Advantage</th>\n",
              "      <th>Seconds remaining in the period</th>\n",
              "      <th>Seconds remaining in the game</th>\n",
              "      <th>Opponent</th>\n",
              "    </tr>\n",
              "  </thead>\n",
              "  <tbody>\n",
              "    <tr>\n",
              "      <th>0</th>\n",
              "      <td>1</td>\n",
              "      <td>6</td>\n",
              "      <td>13</td>\n",
              "      <td>Jump Shot</td>\n",
              "      <td>2PT Field Goal</td>\n",
              "      <td>Mid-Range</td>\n",
              "      <td>Center(C)</td>\n",
              "      <td>16-24 ft.</td>\n",
              "      <td>20</td>\n",
              "      <td>-54</td>\n",
              "      <td>201</td>\n",
              "      <td>0</td>\n",
              "      <td>2014-10-28</td>\n",
              "      <td>LAL</td>\n",
              "      <td>HOU</td>\n",
              "      <td>Regular Season</td>\n",
              "      <td>1</td>\n",
              "      <td>373</td>\n",
              "      <td>2533</td>\n",
              "      <td>HOU</td>\n",
              "    </tr>\n",
              "    <tr>\n",
              "      <th>1</th>\n",
              "      <td>1</td>\n",
              "      <td>4</td>\n",
              "      <td>45</td>\n",
              "      <td>Jump Shot</td>\n",
              "      <td>2PT Field Goal</td>\n",
              "      <td>In The Paint (Non-RA)</td>\n",
              "      <td>Center(C)</td>\n",
              "      <td>Less Than 8 ft.</td>\n",
              "      <td>6</td>\n",
              "      <td>-16</td>\n",
              "      <td>63</td>\n",
              "      <td>1</td>\n",
              "      <td>2014-10-28</td>\n",
              "      <td>LAL</td>\n",
              "      <td>HOU</td>\n",
              "      <td>Regular Season</td>\n",
              "      <td>1</td>\n",
              "      <td>285</td>\n",
              "      <td>2445</td>\n",
              "      <td>HOU</td>\n",
              "    </tr>\n",
              "    <tr>\n",
              "      <th>2</th>\n",
              "      <td>3</td>\n",
              "      <td>5</td>\n",
              "      <td>52</td>\n",
              "      <td>Turnaround Jump Shot</td>\n",
              "      <td>2PT Field Goal</td>\n",
              "      <td>Mid-Range</td>\n",
              "      <td>Right Side(R)</td>\n",
              "      <td>16-24 ft.</td>\n",
              "      <td>18</td>\n",
              "      <td>166</td>\n",
              "      <td>78</td>\n",
              "      <td>0</td>\n",
              "      <td>2014-10-28</td>\n",
              "      <td>LAL</td>\n",
              "      <td>HOU</td>\n",
              "      <td>Regular Season</td>\n",
              "      <td>1</td>\n",
              "      <td>352</td>\n",
              "      <td>1072</td>\n",
              "      <td>HOU</td>\n",
              "    </tr>\n",
              "    <tr>\n",
              "      <th>3</th>\n",
              "      <td>4</td>\n",
              "      <td>9</td>\n",
              "      <td>36</td>\n",
              "      <td>Jump Shot</td>\n",
              "      <td>3PT Field Goal</td>\n",
              "      <td>Above the Break 3</td>\n",
              "      <td>Left Side Center(LC)</td>\n",
              "      <td>24+ ft.</td>\n",
              "      <td>27</td>\n",
              "      <td>-138</td>\n",
              "      <td>241</td>\n",
              "      <td>0</td>\n",
              "      <td>2014-10-28</td>\n",
              "      <td>LAL</td>\n",
              "      <td>HOU</td>\n",
              "      <td>Regular Season</td>\n",
              "      <td>1</td>\n",
              "      <td>576</td>\n",
              "      <td>576</td>\n",
              "      <td>HOU</td>\n",
              "    </tr>\n",
              "    <tr>\n",
              "      <th>4</th>\n",
              "      <td>4</td>\n",
              "      <td>7</td>\n",
              "      <td>16</td>\n",
              "      <td>Jump Shot</td>\n",
              "      <td>2PT Field Goal</td>\n",
              "      <td>Mid-Range</td>\n",
              "      <td>Left Side(L)</td>\n",
              "      <td>16-24 ft.</td>\n",
              "      <td>19</td>\n",
              "      <td>-179</td>\n",
              "      <td>88</td>\n",
              "      <td>0</td>\n",
              "      <td>2014-10-28</td>\n",
              "      <td>LAL</td>\n",
              "      <td>HOU</td>\n",
              "      <td>Regular Season</td>\n",
              "      <td>1</td>\n",
              "      <td>436</td>\n",
              "      <td>436</td>\n",
              "      <td>HOU</td>\n",
              "    </tr>\n",
              "  </tbody>\n",
              "</table>\n",
              "</div>\n",
              "      <button class=\"colab-df-convert\" onclick=\"convertToInteractive('df-b64e8738-9c01-4f03-8c58-dfad4a809695')\"\n",
              "              title=\"Convert this dataframe to an interactive table.\"\n",
              "              style=\"display:none;\">\n",
              "        \n",
              "  <svg xmlns=\"http://www.w3.org/2000/svg\" height=\"24px\"viewBox=\"0 0 24 24\"\n",
              "       width=\"24px\">\n",
              "    <path d=\"M0 0h24v24H0V0z\" fill=\"none\"/>\n",
              "    <path d=\"M18.56 5.44l.94 2.06.94-2.06 2.06-.94-2.06-.94-.94-2.06-.94 2.06-2.06.94zm-11 1L8.5 8.5l.94-2.06 2.06-.94-2.06-.94L8.5 2.5l-.94 2.06-2.06.94zm10 10l.94 2.06.94-2.06 2.06-.94-2.06-.94-.94-2.06-.94 2.06-2.06.94z\"/><path d=\"M17.41 7.96l-1.37-1.37c-.4-.4-.92-.59-1.43-.59-.52 0-1.04.2-1.43.59L10.3 9.45l-7.72 7.72c-.78.78-.78 2.05 0 2.83L4 21.41c.39.39.9.59 1.41.59.51 0 1.02-.2 1.41-.59l7.78-7.78 2.81-2.81c.8-.78.8-2.07 0-2.86zM5.41 20L4 18.59l7.72-7.72 1.47 1.35L5.41 20z\"/>\n",
              "  </svg>\n",
              "      </button>\n",
              "      \n",
              "  <style>\n",
              "    .colab-df-container {\n",
              "      display:flex;\n",
              "      flex-wrap:wrap;\n",
              "      gap: 12px;\n",
              "    }\n",
              "\n",
              "    .colab-df-convert {\n",
              "      background-color: #E8F0FE;\n",
              "      border: none;\n",
              "      border-radius: 50%;\n",
              "      cursor: pointer;\n",
              "      display: none;\n",
              "      fill: #1967D2;\n",
              "      height: 32px;\n",
              "      padding: 0 0 0 0;\n",
              "      width: 32px;\n",
              "    }\n",
              "\n",
              "    .colab-df-convert:hover {\n",
              "      background-color: #E2EBFA;\n",
              "      box-shadow: 0px 1px 2px rgba(60, 64, 67, 0.3), 0px 1px 3px 1px rgba(60, 64, 67, 0.15);\n",
              "      fill: #174EA6;\n",
              "    }\n",
              "\n",
              "    [theme=dark] .colab-df-convert {\n",
              "      background-color: #3B4455;\n",
              "      fill: #D2E3FC;\n",
              "    }\n",
              "\n",
              "    [theme=dark] .colab-df-convert:hover {\n",
              "      background-color: #434B5C;\n",
              "      box-shadow: 0px 1px 3px 1px rgba(0, 0, 0, 0.15);\n",
              "      filter: drop-shadow(0px 1px 2px rgba(0, 0, 0, 0.3));\n",
              "      fill: #FFFFFF;\n",
              "    }\n",
              "  </style>\n",
              "\n",
              "      <script>\n",
              "        const buttonEl =\n",
              "          document.querySelector('#df-b64e8738-9c01-4f03-8c58-dfad4a809695 button.colab-df-convert');\n",
              "        buttonEl.style.display =\n",
              "          google.colab.kernel.accessAllowed ? 'block' : 'none';\n",
              "\n",
              "        async function convertToInteractive(key) {\n",
              "          const element = document.querySelector('#df-b64e8738-9c01-4f03-8c58-dfad4a809695');\n",
              "          const dataTable =\n",
              "            await google.colab.kernel.invokeFunction('convertToInteractive',\n",
              "                                                     [key], {});\n",
              "          if (!dataTable) return;\n",
              "\n",
              "          const docLinkHtml = 'Like what you see? Visit the ' +\n",
              "            '<a target=\"_blank\" href=https://colab.research.google.com/notebooks/data_table.ipynb>data table notebook</a>'\n",
              "            + ' to learn more about interactive tables.';\n",
              "          element.innerHTML = '';\n",
              "          dataTable['output_type'] = 'display_data';\n",
              "          await google.colab.output.renderOutput(dataTable, element);\n",
              "          const docLink = document.createElement('div');\n",
              "          docLink.innerHTML = docLinkHtml;\n",
              "          element.appendChild(docLink);\n",
              "        }\n",
              "      </script>\n",
              "    </div>\n",
              "  </div>\n",
              "  "
            ]
          },
          "metadata": {},
          "execution_count": 111
        }
      ],
      "source": [
        "test_processed.head()"
      ]
    },
    {
      "cell_type": "markdown",
      "id": "49630b73",
      "metadata": {
        "deletable": false,
        "editable": false,
        "nbgrader": {
          "cell_type": "markdown",
          "checksum": "9e1eb83bad8764d1d2f015f3ecf352a5",
          "grade": false,
          "grade_id": "cell-d4f6cbe6a58338c4",
          "locked": true,
          "schema_version": 3,
          "solution": false,
          "task": false
        },
        "id": "49630b73"
      },
      "source": [
        "## 1.4 train / test 셋을 features(X)와 target(y)으로 각각 나누는 `divide_data` 함수를 작성하세요.\n",
        "- `pd.DataFrame` 형태의 `X`와 `pd.Series` 형태의 `y`를 반환하세요."
      ]
    },
    {
      "cell_type": "code",
      "source": [
        "df.drop('shot_made_flag', axis = 1).columns"
      ],
      "metadata": {
        "colab": {
          "base_uri": "https://localhost:8080/"
        },
        "id": "dQLqKwnO8yJj",
        "outputId": "1fa896e0-268f-4512-db2d-ae0ad287bc1a"
      },
      "id": "dQLqKwnO8yJj",
      "execution_count": 90,
      "outputs": [
        {
          "output_type": "execute_result",
          "data": {
            "text/plain": [
              "Index(['game_id', 'game_event_id', 'player_name', 'period',\n",
              "       'minutes_remaining', 'seconds_remaining', 'action_type', 'shot_type',\n",
              "       'shot_zone_basic', 'shot_zone_area', 'shot_zone_range', 'shot_distance',\n",
              "       'loc_x', 'loc_y', 'game_date', 'htm', 'vtm', 'season_type', 'Opponent'],\n",
              "      dtype='object')"
            ]
          },
          "metadata": {},
          "execution_count": 90
        }
      ]
    },
    {
      "cell_type": "code",
      "execution_count": 91,
      "id": "7368b637",
      "metadata": {
        "deletable": false,
        "nbgrader": {
          "cell_type": "code",
          "checksum": "5949da018f02fcf11e69a31cc019a174",
          "grade": false,
          "grade_id": "1-4",
          "locked": false,
          "schema_version": 3,
          "solution": true,
          "task": false
        },
        "id": "7368b637"
      },
      "outputs": [],
      "source": [
        "def divide_data(df):\n",
        "    X = None\n",
        "    y = None\n",
        "\n",
        "    # YOUR CODE HERE\n",
        "    features = df.drop('shot_made_flag', axis = 1).columns\n",
        "    target = 'shot_made_flag'\n",
        "    X = df[features]\n",
        "    y = df[target]\n",
        "    \n",
        "    # YOUR CODE ENDS HERE\n",
        "\n",
        "    return X, y"
      ]
    },
    {
      "cell_type": "code",
      "execution_count": 92,
      "id": "a9138c66",
      "metadata": {
        "deletable": false,
        "editable": false,
        "nbgrader": {
          "cell_type": "code",
          "checksum": "eacbc5209b67324410e3c6ab8214f793",
          "grade": false,
          "grade_id": "cell-b824b53dc5c901a9",
          "locked": true,
          "schema_version": 3,
          "solution": false,
          "task": false
        },
        "id": "a9138c66"
      },
      "outputs": [],
      "source": [
        "X_train, y_train = divide_data(train_processed)\n",
        "X_test, y_test = divide_data(test_processed)"
      ]
    },
    {
      "cell_type": "code",
      "execution_count": 93,
      "id": "a2e3170a",
      "metadata": {
        "deletable": false,
        "editable": false,
        "nbgrader": {
          "cell_type": "code",
          "checksum": "01d0c142022bb1d645ce00c007953efd",
          "grade": true,
          "grade_id": "1-4_test",
          "locked": true,
          "points": 0.5,
          "schema_version": 3,
          "solution": false,
          "task": false
        },
        "id": "a2e3170a",
        "colab": {
          "base_uri": "https://localhost:8080/"
        },
        "outputId": "a01517ef-b38a-4b9f-b454-22ab17a08d0b"
      },
      "outputs": [
        {
          "output_type": "execute_result",
          "data": {
            "text/plain": [
              "((28871, 19), (1826, 19))"
            ]
          },
          "metadata": {},
          "execution_count": 93
        }
      ],
      "source": [
        "X_train.shape, X_test.shape"
      ]
    },
    {
      "cell_type": "markdown",
      "id": "1b9adba0",
      "metadata": {
        "deletable": false,
        "editable": false,
        "nbgrader": {
          "cell_type": "markdown",
          "checksum": "0ead5c4e73d62e484dc1220d6d8d83be",
          "grade": false,
          "grade_id": "cell-6da594998301164d",
          "locked": true,
          "schema_version": 3,
          "solution": false,
          "task": false
        },
        "id": "1b9adba0"
      },
      "source": [
        "# Part 2 - Modeling & Evaluation"
      ]
    },
    {
      "cell_type": "markdown",
      "id": "819f167c",
      "metadata": {
        "deletable": false,
        "editable": false,
        "nbgrader": {
          "cell_type": "markdown",
          "checksum": "eb52947182c5d9e7db1f2687e019d8ab",
          "grade": false,
          "grade_id": "cell-f54c8204c1a466c0",
          "locked": true,
          "schema_version": 3,
          "solution": false,
          "task": false
        },
        "id": "819f167c"
      },
      "source": [
        "## 2.1 RandomForest 또는 XGBoost 모델 학습 파이프라인을 생성하고 학습하는 `fit_trees` 함수를 작성하세요. \n",
        "- Scikit-learn의 `pipeline`을 활용하여 범주형 feature의 encoder, imputer, 모델을 포함하는 하나의 학습 파이프라인을 구축하세요.\n",
        "- 구축한 파이프라인에 대해 `RandomizedSearchCV`를 사용해 CV를 진행하세요.\n",
        "    - 적어도 두 개 이상의 하이퍼파라미터에 대해 탐색을 진행하세요.\n",
        "    - F1 score을 최대화하는 하이퍼파라미터 조합을 선택하세요.\n",
        "- RandomForestClassifier, RandomizedSearchCV 등 랜덤성이 포함되는 방법론에 대해 모두 `random_state=42`로 하세요.\n",
        "- cv는 5 이하, n_iter은 10회 이하로 하세요."
      ]
    },
    {
      "cell_type": "code",
      "execution_count": 113,
      "id": "5299948c",
      "metadata": {
        "deletable": false,
        "nbgrader": {
          "cell_type": "code",
          "checksum": "b8ef6543f6c03fd2b4644b9cf93ce378",
          "grade": false,
          "grade_id": "2-1",
          "locked": false,
          "schema_version": 3,
          "solution": true,
          "task": false
        },
        "id": "5299948c"
      },
      "outputs": [],
      "source": [
        "import sklearn\n",
        "from sklearn.pipeline import make_pipeline, Pipeline\n",
        "from sklearn.model_selection import RandomizedSearchCV\n",
        "from sklearn.metrics import f1_score\n",
        "from sklearn.ensemble import RandomForestClassifier\n",
        "from xgboost import XGBClassifier\n",
        "from sklearn.impute import SimpleImputer\n",
        "from category_encoders import OrdinalEncoder\n",
        "\n",
        "### IMPORT ANY\n",
        "# YOUR CODE HERE\n",
        "from scipy.stats import randint, uniform\n",
        "\n",
        "# YOUR CODE ENDS HERE\n",
        "\n",
        "\n",
        "def fit_trees(X_train, y_train):\n",
        "    pipe = None    # pipe = make_pipeline(...)\n",
        "    clf = None     # clf = RandomizedSearchCV(pipe, ...)\n",
        "\n",
        "    # YOUR CODE HERE\n",
        "    X_train.game_date = X_train.game_date.astype('object')\n",
        "    pipe = make_pipeline(\n",
        "        OrdinalEncoder(),\n",
        "        SimpleImputer(),\n",
        "        RandomForestClassifier(),\n",
        "        )\n",
        "    \n",
        "    dists = {\n",
        "        'simpleimputer__strategy': ['mean', 'median'], \n",
        "        'randomforestclassifier__n_estimators': randint(50, 500), \n",
        "        'randomforestclassifier__max_depth': [5, 10, 15, 20, None], \n",
        "        'randomforestclassifier__max_features': uniform(0, 1)\n",
        "        }\n",
        "    clf = RandomizedSearchCV(\n",
        "        pipe, \n",
        "        param_distributions=dists, \n",
        "        n_iter=10, \n",
        "        cv=3,\n",
        "        scoring='f1',\n",
        "        verbose=1,\n",
        "        n_jobs=-1\n",
        "        )\n",
        "\n",
        "    clf.fit(X_train, y_train)\n",
        "    # YOUR CODE ENDS HERE\n",
        "\n",
        "    return clf"
      ]
    },
    {
      "cell_type": "code",
      "source": [],
      "metadata": {
        "id": "SUEqGtlwDJW1"
      },
      "id": "SUEqGtlwDJW1",
      "execution_count": null,
      "outputs": []
    },
    {
      "cell_type": "code",
      "execution_count": 114,
      "id": "d2a7fd98",
      "metadata": {
        "deletable": false,
        "editable": false,
        "nbgrader": {
          "cell_type": "code",
          "checksum": "fc20e734365d6cf8b877cc0900f3f27a",
          "grade": false,
          "grade_id": "cell-b9ee57acaea76149",
          "locked": true,
          "schema_version": 3,
          "solution": false,
          "task": false
        },
        "id": "d2a7fd98",
        "colab": {
          "base_uri": "https://localhost:8080/"
        },
        "outputId": "2cbf3572-1bba-4513-c07d-1277b7dd6722"
      },
      "outputs": [
        {
          "output_type": "stream",
          "name": "stdout",
          "text": [
            "Fitting 3 folds for each of 10 candidates, totalling 30 fits\n"
          ]
        }
      ],
      "source": [
        "clf = fit_trees(X_train, y_train)"
      ]
    },
    {
      "cell_type": "code",
      "source": [
        "clf.best_params_"
      ],
      "metadata": {
        "colab": {
          "base_uri": "https://localhost:8080/"
        },
        "id": "y4akAJjq_OBP",
        "outputId": "4502dbd6-0ebb-4576-e4e3-86b878222754"
      },
      "id": "y4akAJjq_OBP",
      "execution_count": 116,
      "outputs": [
        {
          "output_type": "execute_result",
          "data": {
            "text/plain": [
              "{'randomforestclassifier__max_depth': 10,\n",
              " 'randomforestclassifier__max_features': 0.18283236278301707,\n",
              " 'randomforestclassifier__n_estimators': 249,\n",
              " 'simpleimputer__strategy': 'median'}"
            ]
          },
          "metadata": {},
          "execution_count": 116
        }
      ]
    },
    {
      "cell_type": "code",
      "execution_count": 117,
      "id": "07f646a3",
      "metadata": {
        "deletable": false,
        "editable": false,
        "nbgrader": {
          "cell_type": "code",
          "checksum": "4b77588efbab2fb48db9038267fbb515",
          "grade": true,
          "grade_id": "2-1_test",
          "locked": true,
          "points": 1,
          "schema_version": 3,
          "solution": false,
          "task": false
        },
        "id": "07f646a3",
        "colab": {
          "base_uri": "https://localhost:8080/"
        },
        "outputId": "039fd4a4-1d26-4ab0-ea94-985808c54418"
      },
      "outputs": [
        {
          "output_type": "stream",
          "name": "stdout",
          "text": [
            "Best CV F1 0.5803666408648067\n",
            "Best CV params {'randomforestclassifier__max_depth': 10, 'randomforestclassifier__max_features': 0.18283236278301707, 'randomforestclassifier__n_estimators': 249, 'simpleimputer__strategy': 'median'}\n"
          ]
        }
      ],
      "source": [
        "print(\"Best CV F1\", clf.best_score_)\n",
        "print(\"Best CV params\", clf.best_params_)"
      ]
    },
    {
      "cell_type": "markdown",
      "id": "762689a6",
      "metadata": {
        "deletable": false,
        "editable": false,
        "nbgrader": {
          "cell_type": "markdown",
          "checksum": "e102401d7da7893ff7c2f40ddcb42e13",
          "grade": false,
          "grade_id": "cell-99dd572207e5cdf5",
          "locked": true,
          "schema_version": 3,
          "solution": false,
          "task": false
        },
        "id": "762689a6"
      },
      "source": [
        "## 2.2 학습된 모델로부터 feature importance를 계산하는 `get_feature_importances` 함수를 작성하세요. \n",
        "- feature_importances 변수에 feature_importances_ 값을 할당하면 됩니다."
      ]
    },
    {
      "cell_type": "code",
      "execution_count": 134,
      "id": "c2bba75f",
      "metadata": {
        "deletable": false,
        "nbgrader": {
          "cell_type": "code",
          "checksum": "42bcf5984aaf1a4a6ead35fce9de6adc",
          "grade": false,
          "grade_id": "2-2",
          "locked": false,
          "schema_version": 3,
          "solution": true,
          "task": false
        },
        "id": "c2bba75f"
      },
      "outputs": [],
      "source": [
        "import numpy as np\n",
        "\n",
        "\n",
        "def get_feature_importances(pipe, feature_names):\n",
        "    feature_importances = np.zeros(len(feature_names))\n",
        "\n",
        "    # YOUR CODE HERE\n",
        "    random_fc = pipe.named_steps['randomforestclassifier']\n",
        "    feature_importances = random_fc.feature_importances_\n",
        "    \n",
        "    # YOUR CODE ENDS HERE\n",
        "\n",
        "    return sorted(\n",
        "        list(zip(feature_names, feature_importances)), key=lambda x: x[1], reverse=True\n",
        "    )"
      ]
    },
    {
      "cell_type": "code",
      "source": [
        "pipe = clf.best_estimator_"
      ],
      "metadata": {
        "id": "u05TLPztJDWs"
      },
      "id": "u05TLPztJDWs",
      "execution_count": 141,
      "outputs": []
    },
    {
      "cell_type": "code",
      "source": [
        "    random_fc = pipe.named_steps['randomforestclassifier']\n",
        "    feature_importances = random_fc.feature_importances_"
      ],
      "metadata": {
        "id": "gq1vU3yZI_-v"
      },
      "id": "gq1vU3yZI_-v",
      "execution_count": 142,
      "outputs": []
    },
    {
      "cell_type": "code",
      "source": [
        "feature_importances"
      ],
      "metadata": {
        "colab": {
          "base_uri": "https://localhost:8080/"
        },
        "id": "iuxCux7JJHqy",
        "outputId": "82f45854-2e46-449d-9581-756d65b86558"
      },
      "id": "iuxCux7JJHqy",
      "execution_count": 143,
      "outputs": [
        {
          "output_type": "execute_result",
          "data": {
            "text/plain": [
              "array([0.01256356, 0.01951401, 0.03606615, 0.40867742, 0.01262562,\n",
              "       0.02487467, 0.01756292, 0.01858752, 0.09037307, 0.04935723,\n",
              "       0.06571221, 0.05302178, 0.02835113, 0.022737  , 0.00475656,\n",
              "       0.00809293, 0.04853518, 0.04744639, 0.03114464])"
            ]
          },
          "metadata": {},
          "execution_count": 143
        }
      ]
    },
    {
      "cell_type": "code",
      "source": [
        "feature_names = X_train.columns"
      ],
      "metadata": {
        "id": "4LoIt04pJS1-"
      },
      "id": "4LoIt04pJS1-",
      "execution_count": 147,
      "outputs": []
    },
    {
      "cell_type": "code",
      "source": [
        "list(zip(feature_names, feature_importances)), key=lambda x: x[1], reverse=True"
      ],
      "metadata": {
        "colab": {
          "base_uri": "https://localhost:8080/",
          "height": 137
        },
        "id": "PtkcrVmMJQiI",
        "outputId": "7370aa51-e097-4a5c-f6dc-25ea8bf1c7ea"
      },
      "id": "PtkcrVmMJQiI",
      "execution_count": 148,
      "outputs": [
        {
          "output_type": "error",
          "ename": "SyntaxError",
          "evalue": "ignored",
          "traceback": [
            "\u001b[0;36m  File \u001b[0;32m\"<ipython-input-148-8bcb090e9ca6>\"\u001b[0;36m, line \u001b[0;32m1\u001b[0m\n\u001b[0;31m    list(zip(feature_names, feature_importances)), key=lambda x: x[1], reverse=True\u001b[0m\n\u001b[0m                                                                                   ^\u001b[0m\n\u001b[0;31mSyntaxError\u001b[0m\u001b[0;31m:\u001b[0m can't assign to function call\n"
          ]
        }
      ]
    },
    {
      "cell_type": "code",
      "source": [
        "np.zeros(len(X_train.columns))"
      ],
      "metadata": {
        "colab": {
          "base_uri": "https://localhost:8080/"
        },
        "id": "McE9ZSCqI5nY",
        "outputId": "24b09e2f-7e67-4625-95b2-7b9a9c4e1a69"
      },
      "id": "McE9ZSCqI5nY",
      "execution_count": 139,
      "outputs": [
        {
          "output_type": "execute_result",
          "data": {
            "text/plain": [
              "array([0., 0., 0., 0., 0., 0., 0., 0., 0., 0., 0., 0., 0., 0., 0., 0., 0.,\n",
              "       0., 0.])"
            ]
          },
          "metadata": {},
          "execution_count": 139
        }
      ]
    },
    {
      "cell_type": "code",
      "source": [
        "clf.best_estimator_"
      ],
      "metadata": {
        "id": "6v6qpbekHQl1"
      },
      "id": "6v6qpbekHQl1",
      "execution_count": null,
      "outputs": []
    },
    {
      "cell_type": "code",
      "source": [
        "X_train.columns.to_list()"
      ],
      "metadata": {
        "colab": {
          "base_uri": "https://localhost:8080/"
        },
        "id": "Oo0bJiK3H5JQ",
        "outputId": "24a6afb1-2fcc-4f31-8f7f-3479739c2930"
      },
      "id": "Oo0bJiK3H5JQ",
      "execution_count": 130,
      "outputs": [
        {
          "output_type": "execute_result",
          "data": {
            "text/plain": [
              "['period',\n",
              " 'minutes_remaining',\n",
              " 'seconds_remaining',\n",
              " 'action_type',\n",
              " 'shot_type',\n",
              " 'shot_zone_basic',\n",
              " 'shot_zone_area',\n",
              " 'shot_zone_range',\n",
              " 'shot_distance',\n",
              " 'loc_x',\n",
              " 'loc_y',\n",
              " 'game_date',\n",
              " 'htm',\n",
              " 'vtm',\n",
              " 'season_type',\n",
              " 'Homecourt Advantage',\n",
              " 'Seconds remaining in the period',\n",
              " 'Seconds remaining in the game',\n",
              " 'Opponent']"
            ]
          },
          "metadata": {},
          "execution_count": 130
        }
      ]
    },
    {
      "cell_type": "code",
      "source": [
        "X_train.columns"
      ],
      "metadata": {
        "colab": {
          "base_uri": "https://localhost:8080/"
        },
        "id": "fIdmiqfAIzzi",
        "outputId": "25d4303e-c3e8-4b2e-afb7-ead34c633eb3"
      },
      "id": "fIdmiqfAIzzi",
      "execution_count": 138,
      "outputs": [
        {
          "output_type": "execute_result",
          "data": {
            "text/plain": [
              "Index(['period', 'minutes_remaining', 'seconds_remaining', 'action_type',\n",
              "       'shot_type', 'shot_zone_basic', 'shot_zone_area', 'shot_zone_range',\n",
              "       'shot_distance', 'loc_x', 'loc_y', 'game_date', 'htm', 'vtm',\n",
              "       'season_type', 'Homecourt Advantage', 'Seconds remaining in the period',\n",
              "       'Seconds remaining in the game', 'Opponent'],\n",
              "      dtype='object')"
            ]
          },
          "metadata": {},
          "execution_count": 138
        }
      ]
    },
    {
      "cell_type": "code",
      "source": [
        "feature_importances = get_feature_importances(\n",
        "    clf.best_estimator_, list(X_train.columns)\n",
        ")"
      ],
      "metadata": {
        "colab": {
          "base_uri": "https://localhost:8080/",
          "height": 210
        },
        "id": "vNVnzv33IR35",
        "outputId": "31797297-b70b-4e7b-d99c-c6ab96804ae7"
      },
      "id": "vNVnzv33IR35",
      "execution_count": 150,
      "outputs": [
        {
          "output_type": "error",
          "ename": "TypeError",
          "evalue": "ignored",
          "traceback": [
            "\u001b[0;31m---------------------------------------------------------------------------\u001b[0m",
            "\u001b[0;31mTypeError\u001b[0m                                 Traceback (most recent call last)",
            "\u001b[0;32m<ipython-input-150-6cd2f98c4314>\u001b[0m in \u001b[0;36m<module>\u001b[0;34m\u001b[0m\n\u001b[1;32m      1\u001b[0m feature_importances = get_feature_importances(\n\u001b[0;32m----> 2\u001b[0;31m     \u001b[0mclf\u001b[0m\u001b[0;34m.\u001b[0m\u001b[0mbest_estimator_\u001b[0m\u001b[0;34m,\u001b[0m \u001b[0mlist\u001b[0m\u001b[0;34m(\u001b[0m\u001b[0mX_train\u001b[0m\u001b[0;34m.\u001b[0m\u001b[0mcolumns\u001b[0m\u001b[0;34m)\u001b[0m\u001b[0;34m\u001b[0m\u001b[0;34m\u001b[0m\u001b[0m\n\u001b[0m\u001b[1;32m      3\u001b[0m )\n",
            "\u001b[0;31mTypeError\u001b[0m: 'list' object is not callable"
          ]
        }
      ]
    },
    {
      "cell_type": "code",
      "source": [
        "feature_importances = get_feature_importances(\n",
        "    clf.best_estimator_, list(X_train.columns)\n",
        ")"
      ],
      "metadata": {
        "colab": {
          "base_uri": "https://localhost:8080/",
          "height": 210
        },
        "id": "SyANLZjWH21Q",
        "outputId": "e24565ff-d03c-4d98-cbd0-9155736d1d28"
      },
      "id": "SyANLZjWH21Q",
      "execution_count": 135,
      "outputs": [
        {
          "output_type": "error",
          "ename": "TypeError",
          "evalue": "ignored",
          "traceback": [
            "\u001b[0;31m---------------------------------------------------------------------------\u001b[0m",
            "\u001b[0;31mTypeError\u001b[0m                                 Traceback (most recent call last)",
            "\u001b[0;32m<ipython-input-135-6cd2f98c4314>\u001b[0m in \u001b[0;36m<module>\u001b[0;34m\u001b[0m\n\u001b[1;32m      1\u001b[0m feature_importances = get_feature_importances(\n\u001b[0;32m----> 2\u001b[0;31m     \u001b[0mclf\u001b[0m\u001b[0;34m.\u001b[0m\u001b[0mbest_estimator_\u001b[0m\u001b[0;34m,\u001b[0m \u001b[0mlist\u001b[0m\u001b[0;34m(\u001b[0m\u001b[0mX_train\u001b[0m\u001b[0;34m.\u001b[0m\u001b[0mcolumns\u001b[0m\u001b[0;34m)\u001b[0m\u001b[0;34m\u001b[0m\u001b[0;34m\u001b[0m\u001b[0m\n\u001b[0m\u001b[1;32m      3\u001b[0m )\n",
            "\u001b[0;31mTypeError\u001b[0m: 'list' object is not callable"
          ]
        }
      ]
    },
    {
      "cell_type": "code",
      "execution_count": null,
      "id": "af663180",
      "metadata": {
        "deletable": false,
        "editable": false,
        "nbgrader": {
          "cell_type": "code",
          "checksum": "e33f6bbde11d0165de4093601eef35de",
          "grade": true,
          "grade_id": "2-2_test",
          "locked": true,
          "points": 0.5,
          "schema_version": 3,
          "solution": false,
          "task": false
        },
        "id": "af663180"
      },
      "outputs": [],
      "source": [
        "for name, importance in feature_importances:\n",
        "    print(f\"{name}: {importance:.4f}\")"
      ]
    },
    {
      "cell_type": "markdown",
      "id": "93b4000a",
      "metadata": {
        "deletable": false,
        "editable": false,
        "nbgrader": {
          "cell_type": "markdown",
          "checksum": "09589ec707b2a88978794c903dc851eb",
          "grade": false,
          "grade_id": "cell-e0056f0b70e3fc27",
          "locked": true,
          "schema_version": 3,
          "solution": false,
          "task": false
        },
        "id": "93b4000a"
      },
      "source": [
        "## 2.3 본인이 만든 모델의 Test 셋에서의 성능을 확인해 보세요.\n",
        "- ### test_accuracy > 0.6, test_f1 > 0.5를 만족하면 기본 성능점수를 얻습니다.\n",
        "- ###  (도전과제) test_accuracy > 0.68, test_f1 > 0.54을 만족하면 성능점수 만점을 얻습니다.\n",
        "  - 도전과제까지 수행해야 스챌 3점을 얻습니다. \n",
        "  - 1.3으로 돌아가 다양한 특성 조합을 시도해 보세요. \n",
        "    - 그리고 2.2로 돌아와 피쳐 중요도를 계산해 보세요.\n",
        "    - 어떤 피쳐의 중요도가 가장 높나요?\n",
        "    - 중요도가 낮은 피쳐라도 있는 게 좋을까요?\n",
        "  - 2.1로 돌아가 SearchCV에서 다양한 하이퍼파라미터 옵션 조합을 선택해 보세요.\n",
        "    - 본인이 선택한 모델에서, 각 하이퍼파라미터가 어떤 의미를 가지나요?\n",
        "    - SearchCV가 더 다양한 하이퍼파라미터 조합을 시도하도록 하기 위해 SearchCV의 어떤 옵션을 조정해야 할까요?"
      ]
    },
    {
      "cell_type": "code",
      "execution_count": 151,
      "id": "55d91bc7",
      "metadata": {
        "deletable": false,
        "editable": false,
        "nbgrader": {
          "cell_type": "code",
          "checksum": "2ee19dd695e141b33511ac928a8fbe2e",
          "grade": false,
          "grade_id": "2-3",
          "locked": true,
          "schema_version": 3,
          "solution": false,
          "task": false
        },
        "id": "55d91bc7"
      },
      "outputs": [],
      "source": [
        "def calculate_score(pipe, X_test, y_test):\n",
        "    test_accuracy = pipe.score(X_test, y_test)\n",
        "    test_f1 = f1_score(y_test, pipe.predict(X_test))\n",
        "    return test_accuracy, test_f1"
      ]
    },
    {
      "cell_type": "code",
      "execution_count": 152,
      "id": "2a19e1f1",
      "metadata": {
        "deletable": false,
        "editable": false,
        "nbgrader": {
          "cell_type": "code",
          "checksum": "a5a77f4bcf3798afe8fd44b76676945b",
          "grade": false,
          "grade_id": "2-3_test_code",
          "locked": true,
          "schema_version": 3,
          "solution": false,
          "task": false
        },
        "id": "2a19e1f1"
      },
      "outputs": [],
      "source": [
        "test_accuracy, test_f1 = calculate_score(clf.best_estimator_, X_test, y_test)"
      ]
    },
    {
      "cell_type": "code",
      "execution_count": 153,
      "id": "9630b414",
      "metadata": {
        "deletable": false,
        "editable": false,
        "nbgrader": {
          "cell_type": "code",
          "checksum": "603081d1e133472a6e4ca2c61c55b8cd",
          "grade": true,
          "grade_id": "2-3_test",
          "locked": true,
          "points": 1,
          "schema_version": 3,
          "solution": false,
          "task": false
        },
        "id": "9630b414",
        "colab": {
          "base_uri": "https://localhost:8080/"
        },
        "outputId": "f1e98e1f-9739-4429-d52c-707463596292"
      },
      "outputs": [
        {
          "output_type": "stream",
          "name": "stdout",
          "text": [
            "test accuracy:  0.6768893756845564\n",
            "test F1: 0.5376175548589341\n"
          ]
        }
      ],
      "source": [
        "print(\"test accuracy: \", test_accuracy)\n",
        "print(\"test F1:\", test_f1)"
      ]
    },
    {
      "cell_type": "code",
      "execution_count": 154,
      "id": "b68ee47c",
      "metadata": {
        "deletable": false,
        "editable": false,
        "nbgrader": {
          "cell_type": "code",
          "checksum": "f616c48705e48860cdc87c0be104fb28",
          "grade": true,
          "grade_id": "challenge_2-3_test",
          "locked": true,
          "points": 1,
          "schema_version": 3,
          "solution": false,
          "task": false
        },
        "id": "b68ee47c",
        "colab": {
          "base_uri": "https://localhost:8080/"
        },
        "outputId": "b8ab504a-331d-4dce-bba0-5c22c4481904"
      },
      "outputs": [
        {
          "output_type": "stream",
          "name": "stdout",
          "text": [
            "test accuracy > 0.68?:  False\n",
            "test F1 > 0.54?: False\n"
          ]
        }
      ],
      "source": [
        "print(\"test accuracy > 0.68?: \", test_accuracy > 0.68)\n",
        "print(\"test F1 > 0.54?:\", test_f1 > 0.54)\n"
      ]
    },
    {
      "cell_type": "markdown",
      "id": "ff76958a",
      "metadata": {
        "id": "ff76958a"
      },
      "source": [
        "---"
      ]
    },
    {
      "cell_type": "markdown",
      "id": "27548ef6",
      "metadata": {
        "id": "27548ef6"
      },
      "source": [
        "# 수고하셨습니다!"
      ]
    }
  ],
  "metadata": {
    "kernelspec": {
      "display_name": "Python 3",
      "language": "python",
      "name": "python3"
    },
    "language_info": {
      "codemirror_mode": {
        "name": "ipython",
        "version": 3
      },
      "file_extension": ".py",
      "mimetype": "text/x-python",
      "name": "python",
      "nbconvert_exporter": "python",
      "pygments_lexer": "ipython3",
      "version": "3.8.8"
    },
    "toc": {
      "base_numbering": 1,
      "nav_menu": {},
      "number_sections": true,
      "sideBar": true,
      "skip_h1_title": false,
      "title_cell": "Table of Contents",
      "title_sidebar": "Contents",
      "toc_cell": false,
      "toc_position": {},
      "toc_section_display": true,
      "toc_window_display": false
    },
    "varInspector": {
      "cols": {
        "lenName": 16,
        "lenType": 16,
        "lenVar": 40
      },
      "kernels_config": {
        "python": {
          "delete_cmd_postfix": "",
          "delete_cmd_prefix": "del ",
          "library": "var_list.py",
          "varRefreshCmd": "print(var_dic_list())"
        },
        "r": {
          "delete_cmd_postfix": ") ",
          "delete_cmd_prefix": "rm(",
          "library": "var_list.r",
          "varRefreshCmd": "cat(var_dic_list()) "
        }
      },
      "types_to_exclude": [
        "module",
        "function",
        "builtin_function_or_method",
        "instance",
        "_Feature"
      ],
      "window_display": false
    },
    "colab": {
      "provenance": [],
      "include_colab_link": true
    }
  },
  "nbformat": 4,
  "nbformat_minor": 5
}